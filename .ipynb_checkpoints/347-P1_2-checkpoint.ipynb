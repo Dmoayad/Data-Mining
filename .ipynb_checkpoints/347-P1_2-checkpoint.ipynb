{
 "cells": [
  {
   "cell_type": "markdown",
   "metadata": {},
   "source": [
    "## Part 1: ....."
   ]
  },
  {
   "cell_type": "markdown",
   "metadata": {},
   "source": [
    "## Part 2: Write Python code for data analysis"
   ]
  },
  {
   "cell_type": "code",
   "execution_count": 1,
   "metadata": {},
   "outputs": [],
   "source": [
    "import numpy as np\n",
    "import math\n",
    "\n",
    "hearts = np.loadtxt(\"./data/heart.csv\", delimiter=\",\")"
   ]
  },
  {
   "cell_type": "code",
   "execution_count": 2,
   "metadata": {},
   "outputs": [],
   "source": [
    "# 2-D Numerical Data Set\n",
    "twoDNum = np.array([[1, 2, 3, 4, 5, 6],\n",
    "                    [7, 8, 9, 10, 11, 12],\n",
    "                    [13, 14, 15, 16, 17, 18],\n",
    "                    [19, 20, 21, 22, 23, 24],\n",
    "                    [25, 26, 27, 28, 29, 30],\n",
    "                    [31, 32, 33, 34, 35, 36],\n",
    "                    [37, 38, 39, 40, 41, 42],\n",
    "                    [43, 44, 45, 46, 47, 48],\n",
    "                    [49, 50, 51, 52, 53, 54]])"
   ]
  },
  {
   "cell_type": "code",
   "execution_count": 3,
   "metadata": {},
   "outputs": [],
   "source": [
    "twoDNum2 = np.array([[1, 2, 3],[4, 5, 6],[7, 8, 9],[10, 11, 12]])"
   ]
  },
  {
   "cell_type": "code",
   "execution_count": 4,
   "metadata": {},
   "outputs": [],
   "source": [
    "# 2-D Categorical Data Set of Various Types\n",
    "twoDCat = np.array([['Yes', 'Green', 'Shirt', 'A'],['No', 'Blue', 'Pants', 'B'],['Yes', 'Red', 'Blouse', 'C'],['No', 'Yellow', 'Shirt', 'D']])\n"
   ]
  },
  {
   "cell_type": "code",
   "execution_count": 5,
   "metadata": {},
   "outputs": [],
   "source": [
    "# 1-D Vectors\n",
    "vector1 = np.array([1, 2, 3, 4, 5])\n",
    "vector2 = np.array([1, 2, 3, 4, 5])\n"
   ]
  },
  {
   "cell_type": "markdown",
   "metadata": {},
   "source": [
    "#### 2a) (5 points) A function that will compute the mean of a numerical, multidimensional data set input as a 2-dimensional numpy array"
   ]
  },
  {
   "cell_type": "code",
   "execution_count": 6,
   "metadata": {},
   "outputs": [],
   "source": [
    "# Function for the multivariate mean of a numerical data set\n",
    "def twoDimMean(inputArr):\n",
    "    total = np.zeros([len(inputArr[0])])\n",
    "    num_elements = len(inputArr)\n",
    "\n",
    "    for i in range(len(inputArr)):\n",
    "        for j in range(len(inputArr[0])):\n",
    "            xi = inputArr[:, j]\n",
    "            total[j] = total[j] + xi[i]\n",
    "\n",
    "    mean = total\n",
    "    return mean\n"
   ]
  },
  {
   "cell_type": "code",
   "execution_count": 7,
   "metadata": {},
   "outputs": [
    {
     "name": "stdout",
     "output_type": "stream",
     "text": [
      "\n",
      "2-Dimensional Multivariate Mean: [225. 234. 243. 252. 261. 270.]\n"
     ]
    }
   ],
   "source": [
    "print(\"\\n2-Dimensional Multivariate Mean:\", twoDimMean(twoDNum))"
   ]
  },
  {
   "cell_type": "markdown",
   "metadata": {},
   "source": [
    "#### 2b) (5 points) A function that will compute the estimated covariance between two attributes that are input as one-dimensional numpy vectors"
   ]
  },
  {
   "cell_type": "code",
   "execution_count": 8,
   "metadata": {},
   "outputs": [],
   "source": [
    "# Function for sample covariance between two attributes\n",
    "def covariance(a, b):\n",
    "    x, y, total = 0, 0, 0\n",
    "    n = len(a)\n",
    "    # attr. Sum \n",
    "    for i in range(n):\n",
    "        x = x + a[i]\n",
    "        y = y + b[i]\n",
    "    # attr. Mean\n",
    "    xMean = x / n\n",
    "    yMean = y / n\n",
    "    # Covariance sum\n",
    "    for i in range(n):\n",
    "        total = total + ((a[i]) - xMean) * ((b[i]) - yMean)\n",
    "    covariance = (1 / (n - 1)) * total\n",
    "    return covariance\n"
   ]
  },
  {
   "cell_type": "code",
   "execution_count": 9,
   "metadata": {},
   "outputs": [
    {
     "name": "stdout",
     "output_type": "stream",
     "text": [
      "\n",
      "Covariance: 2.500000\n"
     ]
    }
   ],
   "source": [
    "print(\"\\nCovariance: %f\" % covariance(vector1, vector2))"
   ]
  },
  {
   "cell_type": "markdown",
   "metadata": {},
   "source": [
    "#### 2c) (5 points) A function that will compute the correlation between two attributes that are input as two numpy vectors."
   ]
  },
  {
   "cell_type": "code",
   "execution_count": 10,
   "metadata": {},
   "outputs": [],
   "source": [
    "# Function for correlation between two attributes\n",
    "def correlation(p1, p2):\n",
    "    x, y, axb, a2, b2 = 0, 0, 0, 0, 0\n",
    "    n = len(p1)\n",
    "\n",
    "    for i in range(n):\n",
    "        x = x + p1[i]\n",
    "        y = y + p2[i]\n",
    "\n",
    "    x_mean = x / n\n",
    "    y_mean = y / n\n",
    "\n",
    "    for i in range(n):\n",
    "        a = (p1[i] - x_mean)\n",
    "        b = (p2[i] - y_mean)\n",
    "        axb = axb + (a * b)\n",
    "        a2 = a2 + (a * a)\n",
    "        b2 = b2 + (b * b)\n",
    "    \n",
    "    correlation = axb / (math.sqrt(a2 * b2))\n",
    "    \n",
    "    return correlation\n"
   ]
  },
  {
   "cell_type": "code",
   "execution_count": 11,
   "metadata": {},
   "outputs": [
    {
     "name": "stdout",
     "output_type": "stream",
     "text": [
      "\n",
      "Correlation: 1.000000\n"
     ]
    }
   ],
   "source": [
    "print(\"\\nCorrelation: %f\" % correlation(vector1, vector2))"
   ]
  },
  {
   "cell_type": "markdown",
   "metadata": {},
   "source": [
    "#### 2d) A function that will normalize the attributes in a two-dimensional numpy array using range normalization."
   ]
  },
  {
   "cell_type": "code",
   "execution_count": 12,
   "metadata": {},
   "outputs": [],
   "source": [
    "\n",
    "# Function for min by column\n",
    "# ref: https://www.geeksforgeeks.org/program-find-minimum-maximum-element-array/\n",
    "def getMin(input_arr):\n",
    "    value = input_arr[0]\n",
    "    n = len(input_arr)\n",
    "    for i in range(1, n):\n",
    "        value = min(value, input_arr[i])\n",
    "    return value\n",
    "\n",
    "\n",
    "# Function for max by column\n",
    "# ref: https://www.geeksforgeeks.org/program-find-minimum-maximum-element-array/\n",
    "def getMax(input_arr):\n",
    "    value = input_arr[0]\n",
    "    n = len(input_arr)\n",
    "    for i in range(1, n):\n",
    "        value = max(value, input_arr[i])\n",
    "    return value\n",
    "\n",
    "def rangeNormal(input_arr):\n",
    "    rowLen = len(input_arr)\n",
    "    colLen = len(input_arr[0])\n",
    "    rngNormal = np.empty([rowLen, colLen])\n",
    "    \n",
    "    for row in range(rowLen):\n",
    "        for col in range(colLen):\n",
    "            max_min = getMax(input_arr[:, col]) - getMin(input_arr[:, col])\n",
    "            x_sub_min = (input_arr[row][col] - getMin(input_arr[:, col]))\n",
    "            rngNormal[row][col] = x_sub_min / max_min\n",
    "    return rngNormal\n"
   ]
  },
  {
   "cell_type": "code",
   "execution_count": 13,
   "metadata": {},
   "outputs": [
    {
     "name": "stdout",
     "output_type": "stream",
     "text": [
      "\n",
      "Range Normalized Data:\n",
      " [[0.    0.    0.    0.    0.    0.   ]\n",
      " [0.125 0.125 0.125 0.125 0.125 0.125]\n",
      " [0.25  0.25  0.25  0.25  0.25  0.25 ]\n",
      " [0.375 0.375 0.375 0.375 0.375 0.375]\n",
      " [0.5   0.5   0.5   0.5   0.5   0.5  ]\n",
      " [0.625 0.625 0.625 0.625 0.625 0.625]\n",
      " [0.75  0.75  0.75  0.75  0.75  0.75 ]\n",
      " [0.875 0.875 0.875 0.875 0.875 0.875]\n",
      " [1.    1.    1.    1.    1.    1.   ]]\n"
     ]
    }
   ],
   "source": [
    "print(\"\\nRange Normalized Data:\\n\", rangeNormal(twoDNum))"
   ]
  },
  {
   "cell_type": "markdown",
   "metadata": {},
   "source": [
    "#### 2e) (5 points) A function that will normalize the attributes in a two-dimensional numpy array using standard normalization"
   ]
  },
  {
   "cell_type": "code",
   "execution_count": 14,
   "metadata": {},
   "outputs": [],
   "source": [
    "# Helper function \n",
    "def oneDimMean(inputArr):\n",
    "    total = 0\n",
    "    numElements = 0\n",
    "\n",
    "    for i in range(len(inputArr)):\n",
    "        total = total + inputArr[i]\n",
    "        numElements = numElements + 1\n",
    "    mean = total / numElements\n",
    "    return mean\n",
    "\n",
    "\n",
    "# Helper function for SD\n",
    "def stdDevHelper(inputArr):\n",
    "    total = 0\n",
    "    numElements = 0\n",
    "    mean = oneDimMean(inputArr)\n",
    "\n",
    "    for i in range(len(inputArr)):\n",
    "        total = total + (inputArr[i] - mean) ** 2\n",
    "        numElements = numElements + 1\n",
    "\n",
    "    std_dev = math.sqrt(total / (numElements - 1))\n",
    "    return std_dev\n",
    "\n",
    "\n",
    "def listUnique(inputArr):\n",
    "    unique = []\n",
    "    for x in inputArr:\n",
    "        if x not in unique:\n",
    "            unique.append(x)\n",
    "    return unique\n",
    "\n",
    "\n",
    "def stdNormal(inputArr):\n",
    "    rowLen = len(inputArr)\n",
    "    colLen = len(inputArr[0])\n",
    "\n",
    "    stdNormal = np.empty([rowLen, colLen])\n",
    "    for i in range(rowLen):\n",
    "        for j in range(colLen):\n",
    "            xi = inputArr[i][j]\n",
    "            colMean = oneDimMean(inputArr[:, j])\n",
    "            stdDev = stdDevHelper(inputArr[:, j])\n",
    "            stdNormal[i][j] = (xi - colMean) / stdDev\n",
    "    return stdNormal"
   ]
  },
  {
   "cell_type": "code",
   "execution_count": 15,
   "metadata": {},
   "outputs": [
    {
     "name": "stdout",
     "output_type": "stream",
     "text": [
      "\n",
      "Standard Normalized Data:\n",
      " [[-1.46059349 -1.46059349 -1.46059349 -1.46059349 -1.46059349 -1.46059349]\n",
      " [-1.09544512 -1.09544512 -1.09544512 -1.09544512 -1.09544512 -1.09544512]\n",
      " [-0.73029674 -0.73029674 -0.73029674 -0.73029674 -0.73029674 -0.73029674]\n",
      " [-0.36514837 -0.36514837 -0.36514837 -0.36514837 -0.36514837 -0.36514837]\n",
      " [ 0.          0.          0.          0.          0.          0.        ]\n",
      " [ 0.36514837  0.36514837  0.36514837  0.36514837  0.36514837  0.36514837]\n",
      " [ 0.73029674  0.73029674  0.73029674  0.73029674  0.73029674  0.73029674]\n",
      " [ 1.09544512  1.09544512  1.09544512  1.09544512  1.09544512  1.09544512]\n",
      " [ 1.46059349  1.46059349  1.46059349  1.46059349  1.46059349  1.46059349]]\n"
     ]
    }
   ],
   "source": [
    "print(\"\\nStandard Normalized Data:\\n\", stdNormal(twoDNum))\n",
    "\n",
    "oneHotMatrix=np.array([[1, 0, 0, 1, 0, 1, 0, 0, 0],\n",
    "[0, 1, 0, 0, 1, 0, 1, 0, 0],\n",
    "[0, 0, 1, 0, 1, 0, 0, 1, 0],\n",
    " [0, 0, 1, 0, 1, 0, 0, 0, 1],\n",
    " [1, 0, 0, 1, 0, 1, 0, 0, 0],\n",
    " [0, 0, 1, 1, 0, 1, 0, 0, 0],\n",
    " [0, 1, 0, 0, 1, 0, 0, 0, 1]])\n",
    "\n",
    "# stdNormal(oneHotMatrix)\n",
    "\n",
    "# range_normalization(np.array([[1, 2, 3, 4], [3, 5, 8, 3]]))"
   ]
  },
  {
   "cell_type": "markdown",
   "metadata": {},
   "source": [
    "#### 2f) (5 points) A function that will compute the covariance matrix of a data set."
   ]
  },
  {
   "cell_type": "code",
   "execution_count": 16,
   "metadata": {},
   "outputs": [],
   "source": [
    "def covarMatrix(inputArr):\n",
    "    dim = np.array = inputArr.shape\n",
    "    rowLen = dim[1]\n",
    "    \n",
    "    covarMatrix = np.empty([rowLen, rowLen])\n",
    "    for i in range(rowLen):\n",
    "        for j in range(rowLen):\n",
    "            xi = inputArr[:, i]\n",
    "            xj = inputArr[:, j]\n",
    "\n",
    "            covarMatrix[i][j] = covariance(xi, xj)\n",
    "    return covarMatrix"
   ]
  },
  {
   "cell_type": "code",
   "execution_count": 17,
   "metadata": {},
   "outputs": [
    {
     "name": "stdout",
     "output_type": "stream",
     "text": [
      "\n",
      "Covariance Matrix:\n",
      " [[270. 270. 270. 270. 270. 270.]\n",
      " [270. 270. 270. 270. 270. 270.]\n",
      " [270. 270. 270. 270. 270. 270.]\n",
      " [270. 270. 270. 270. 270. 270.]\n",
      " [270. 270. 270. 270. 270. 270.]\n",
      " [270. 270. 270. 270. 270. 270.]]\n"
     ]
    }
   ],
   "source": [
    "print(\"\\nCovariance Matrix:\\n\", covarMatrix(twoDNum))"
   ]
  },
  {
   "cell_type": "markdown",
   "metadata": {},
   "source": [
    "#### 2g) (5 points) A function that will label-encode a two-dimensional categorical data array that is passed in as input."
   ]
  },
  {
   "cell_type": "code",
   "execution_count": 18,
   "metadata": {},
   "outputs": [],
   "source": [
    "def labelEncode(inputArr):\n",
    "    rowLen = len(inputArr)\n",
    "    colLen = len(inputArr[0])\n",
    "\n",
    "    lblEncoded = np.empty([rowLen, colLen])\n",
    "    for i in range(rowLen):\n",
    "        for j in range(colLen):\n",
    "            xi = inputArr[:, j]\n",
    "            xu = listUnique(xi)\n",
    "            lblEncoded[i][j] = xu.index(xi[i]) + 1\n",
    "\n",
    "    return lblEncoded\n"
   ]
  },
  {
   "cell_type": "code",
   "execution_count": 19,
   "metadata": {},
   "outputs": [
    {
     "name": "stdout",
     "output_type": "stream",
     "text": [
      "\n",
      "Label Encoded Matrix:\n",
      " [[1. 1. 1. 1.]\n",
      " [2. 2. 2. 2.]\n",
      " [1. 3. 3. 3.]\n",
      " [2. 4. 1. 4.]]\n"
     ]
    }
   ],
   "source": [
    "print(\"\\nLabel Encoded Matrix:\\n\", labelEncode(twoDCat))"
   ]
  },
  {
   "cell_type": "markdown",
   "metadata": {},
   "source": [
    "## Part 3"
   ]
  },
  {
   "cell_type": "markdown",
   "metadata": {},
   "source": [
    "a) All categorical variables are label encoded\n",
    "b)\n",
    "c) mean of the data"
   ]
  },
  {
   "cell_type": "code",
   "execution_count": 20,
   "metadata": {
    "scrolled": true
   },
   "outputs": [
    {
     "data": {
      "text/plain": [
       "array([1.4697e+04, 1.8300e+02, 8.5700e+02, 3.5463e+04, 6.7408e+04,\n",
       "       4.0000e+01, 2.7600e+02, 4.0413e+04, 8.9000e+01, 2.8350e+02,\n",
       "       4.2800e+02, 1.8100e+02, 1.2680e+03, 3.9000e+02])"
      ]
     },
     "execution_count": 20,
     "metadata": {},
     "output_type": "execute_result"
    }
   ],
   "source": [
    "twoDimMean(hearts)\n",
    "# need to remove non numerical values."
   ]
  },
  {
   "cell_type": "code",
   "execution_count": 21,
   "metadata": {},
   "outputs": [
    {
     "data": {
      "text/plain": [
       "array([[ 8.29750929e+01, -4.02602230e-01,  8.38785626e-01,\n",
       "         4.44263941e+01,  1.03605452e+02,  4.00247831e-01,\n",
       "         1.16505576e+00, -8.48747212e+01,  4.21685254e-01,\n",
       "         2.02620818e+00,  8.94175960e-01,  3.06158612e+00,\n",
       "         1.87558860e+00,  9.62825279e-01],\n",
       "       [-4.02602230e-01,  2.19206939e-01,  1.54068567e-02,\n",
       "        -5.24287485e-01, -4.87971912e+00,  7.02189178e-03,\n",
       "         1.83395291e-02, -8.25402726e-01,  3.96943412e-02,\n",
       "         5.22304833e-02,  1.45394465e-02,  3.83725733e-02,\n",
       "         3.55307724e-01,  6.93928129e-02],\n",
       "       [ 8.38785626e-01,  1.54068567e-02,  9.02671073e-01,\n",
       "        -7.33044197e-01,  4.44243426e+00, -3.33195649e-02,\n",
       "         7.04667493e-02, -6.99202809e+00,  1.58020102e-01,\n",
       "         1.81970260e-01,  7.99118821e-02,  2.02574694e-01,\n",
       "         4.84290238e-01,  1.97439075e-01],\n",
       "       [ 4.44263941e+01, -5.24287485e-01, -7.33044197e-01,\n",
       "         3.19037051e+02,  1.59731185e+02,  9.89673689e-01,\n",
       "         2.07038414e+00, -1.61934325e+01,  6.96447749e-01,\n",
       "         4.55743494e+00,  1.56348616e+00,  1.44481619e+00,\n",
       "         4.57711689e+00,  1.38166047e+00],\n",
       "       [ 1.03605452e+02, -4.87971912e+00,  4.44243426e+00,\n",
       "         1.59731185e+02,  2.67146711e+03,  4.63307173e-01,\n",
       "         8.64700537e+00, -2.24373399e+01,  1.90455735e+00,\n",
       "         1.64014870e+00, -1.82761944e-01,  6.17350957e+00,\n",
       "         2.89241360e+00,  3.03676167e+00],\n",
       "       [ 4.00247831e-01,  7.02189178e-03, -3.33195649e-02,\n",
       "         9.89673689e-01,  4.63307173e-01,  1.26669420e-01,\n",
       "         1.90004131e-02,  1.85460553e-01, -6.88420763e-04,\n",
       "        -1.04089219e-02,  9.63789068e-03,  4.15806141e-02,\n",
       "         3.40079857e-02, -2.89136720e-03],\n",
       "       [ 1.16505576e+00,  1.83395291e-02,  7.04667493e-02,\n",
       "         2.07038414e+00,  8.64700537e+00,  1.90004131e-02,\n",
       "         9.95786865e-01, -1.72515489e+00,  4.46922759e-02,\n",
       "         1.37174721e-01,  9.84717059e-02,  1.07724081e-01,\n",
       "         1.42090045e-02,  9.04584882e-02],\n",
       "       [-8.48747212e+01, -8.25402726e-01, -6.99202809e+00,\n",
       "        -1.61934325e+01, -2.24373399e+01,  1.85460553e-01,\n",
       "        -1.72515489e+00,  5.36650434e+02, -4.15361421e+00,\n",
       "        -9.26003717e+00, -5.50590665e+00, -5.80177613e+00,\n",
       "        -1.13919042e+01, -4.82651797e+00],\n",
       "       [ 4.21685254e-01,  3.96943412e-02,  1.58020102e-01,\n",
       "         6.96447749e-01,  1.90455735e+00, -6.88420763e-04,\n",
       "         4.46922759e-02, -4.15361421e+00,  2.21795401e-01,\n",
       "         1.48141264e-01,  7.40465372e-02,  6.81674239e-02,\n",
       "         2.93790445e-01,  9.83064849e-02],\n",
       "       [ 2.02620818e+00,  5.22304833e-02,  1.81970260e-01,\n",
       "         4.55743494e+00,  1.64014870e+00, -1.04089219e-02,\n",
       "         1.37174721e-01, -9.26003717e+00,  1.48141264e-01,\n",
       "         1.31150558e+00,  4.28996283e-01,  2.75650558e-01,\n",
       "         7.20817844e-01,  2.38289963e-01],\n",
       "       [ 8.94175960e-01,  1.45394465e-02,  7.99118821e-02,\n",
       "         1.56348616e+00, -1.82761944e-01,  9.63789068e-03,\n",
       "         9.84717059e-02, -5.50590665e+00,  7.40465372e-02,\n",
       "         4.28996283e-01,  3.77474873e-01,  6.34999312e-02,\n",
       "         3.38234889e-01,  1.03263114e-01],\n",
       "       [ 3.06158612e+00,  3.83725733e-02,  2.02574694e-01,\n",
       "         1.44481619e+00,  6.17350957e+00,  4.15806141e-02,\n",
       "         1.07724081e-01, -5.80177613e+00,  6.81674239e-02,\n",
       "         2.75650558e-01,  6.34999312e-02,  8.90940383e-01,\n",
       "         4.68291340e-01,  2.13961173e-01],\n",
       "       [ 1.87558860e+00,  3.55307724e-01,  4.84290238e-01,\n",
       "         4.57711689e+00,  2.89241360e+00,  3.40079857e-02,\n",
       "         1.42090045e-02, -1.13919042e+01,  2.93790445e-01,\n",
       "         7.20817844e-01,  3.38234889e-01,  4.68291340e-01,\n",
       "         3.76615724e+00,  5.07228418e-01],\n",
       "       [ 9.62825279e-01,  6.93928129e-02,  1.97439075e-01,\n",
       "         1.38166047e+00,  3.03676167e+00, -2.89136720e-03,\n",
       "         9.04584882e-02, -4.82651797e+00,  9.83064849e-02,\n",
       "         2.38289963e-01,  1.03263114e-01,  2.13961173e-01,\n",
       "         5.07228418e-01,  2.47831475e-01]])"
      ]
     },
     "execution_count": 21,
     "metadata": {},
     "output_type": "execute_result"
    }
   ],
   "source": [
    "covarMatrix(hearts)\n",
    "# need to remove non numerical values."
   ]
  },
  {
   "cell_type": "code",
   "execution_count": 22,
   "metadata": {},
   "outputs": [],
   "source": [
    "# scatter plots."
   ]
  },
  {
   "cell_type": "code",
   "execution_count": 23,
   "metadata": {},
   "outputs": [
    {
     "data": {
      "text/plain": [
       "array([[0.85416667, 1.        , 1.        , ..., 1.        , 0.        ,\n",
       "        1.        ],\n",
       "       [0.79166667, 0.        , 0.66666667, ..., 0.        , 1.        ,\n",
       "        0.        ],\n",
       "       [0.58333333, 1.        , 0.33333333, ..., 0.        , 1.        ,\n",
       "        1.        ],\n",
       "       ...,\n",
       "       [0.5625    , 0.        , 0.33333333, ..., 0.        , 0.        ,\n",
       "        0.        ],\n",
       "       [0.58333333, 1.        , 1.        , ..., 0.        , 0.75      ,\n",
       "        0.        ],\n",
       "       [0.79166667, 1.        , 1.        , ..., 1.        , 0.        ,\n",
       "        1.        ]])"
      ]
     },
     "execution_count": 23,
     "metadata": {},
     "output_type": "execute_result"
    }
   ],
   "source": [
    "rangeNormal(hearts)\n",
    "# remove non-nurmerical attributes"
   ]
  },
  {
   "cell_type": "code",
   "execution_count": 24,
   "metadata": {},
   "outputs": [
    {
     "data": {
      "text/plain": [
       "array([[ 1.70892008,  0.68822166,  0.86931332, ...,  2.4680989 ,\n",
       "        -0.87408263,  1.11596163],\n",
       "       [ 1.37957788, -1.44763867, -0.1832185 , ..., -0.71021606,\n",
       "         1.18707292, -0.89276931],\n",
       "       [ 0.28177055,  0.68822166, -1.23575033, ..., -0.71021606,\n",
       "         1.18707292,  1.11596163],\n",
       "       ...,\n",
       "       [ 0.17198982, -1.44763867, -1.23575033, ..., -0.71021606,\n",
       "        -0.87408263, -0.89276931],\n",
       "       [ 0.28177055,  0.68822166,  0.86931332, ..., -0.71021606,\n",
       "         0.67178403, -0.89276931],\n",
       "       [ 1.37957788,  0.68822166,  0.86931332, ...,  2.4680989 ,\n",
       "        -0.87408263,  1.11596163]])"
      ]
     },
     "execution_count": 24,
     "metadata": {},
     "output_type": "execute_result"
    }
   ],
   "source": [
    "stdNormal(hearts)"
   ]
  },
  {
   "cell_type": "code",
   "execution_count": 26,
   "metadata": {},
   "outputs": [
    {
     "ename": "TypeError",
     "evalue": "'function' object is not subscriptable",
     "output_type": "error",
     "traceback": [
      "\u001b[0;31m---------------------------------------------------------------------------\u001b[0m",
      "\u001b[0;31mTypeError\u001b[0m                                 Traceback (most recent call last)",
      "\u001b[0;32m/var/folders/wf/wl9jdcgd2_g1z38fw_drhfgc0000gn/T/ipykernel_80772/560767097.py\u001b[0m in \u001b[0;36m<module>\u001b[0;34m\u001b[0m\n\u001b[1;32m      7\u001b[0m     \u001b[0;32mreturn\u001b[0m \u001b[0marrV\u001b[0m\u001b[0;34m[\u001b[0m\u001b[0;36m0\u001b[0m\u001b[0;34m]\u001b[0m\u001b[0;34m\u001b[0m\u001b[0;34m\u001b[0m\u001b[0m\n\u001b[1;32m      8\u001b[0m \u001b[0;34m\u001b[0m\u001b[0m\n\u001b[0;32m----> 9\u001b[0;31m \u001b[0mtVariance\u001b[0m\u001b[0;34m(\u001b[0m\u001b[0mhearts\u001b[0m\u001b[0;34m)\u001b[0m\u001b[0;34m\u001b[0m\u001b[0;34m\u001b[0m\u001b[0m\n\u001b[0m",
      "\u001b[0;32m/var/folders/wf/wl9jdcgd2_g1z38fw_drhfgc0000gn/T/ipykernel_80772/560767097.py\u001b[0m in \u001b[0;36mtVariance\u001b[0;34m(arr)\u001b[0m\n\u001b[1;32m      4\u001b[0m     \u001b[0;32mfor\u001b[0m \u001b[0mi\u001b[0m \u001b[0;32min\u001b[0m \u001b[0mrange\u001b[0m\u001b[0;34m(\u001b[0m\u001b[0mlen\u001b[0m\u001b[0;34m(\u001b[0m\u001b[0marr\u001b[0m\u001b[0;34m)\u001b[0m\u001b[0;34m)\u001b[0m\u001b[0;34m:\u001b[0m\u001b[0;34m\u001b[0m\u001b[0;34m\u001b[0m\u001b[0m\n\u001b[1;32m      5\u001b[0m         \u001b[0;32mfor\u001b[0m \u001b[0mj\u001b[0m \u001b[0;32min\u001b[0m \u001b[0mrange\u001b[0m\u001b[0;34m(\u001b[0m\u001b[0mlen\u001b[0m\u001b[0;34m(\u001b[0m\u001b[0marr\u001b[0m\u001b[0;34m[\u001b[0m\u001b[0;36m1\u001b[0m\u001b[0;34m]\u001b[0m\u001b[0;34m)\u001b[0m\u001b[0;34m)\u001b[0m\u001b[0;34m:\u001b[0m\u001b[0;34m\u001b[0m\u001b[0;34m\u001b[0m\u001b[0m\n\u001b[0;32m----> 6\u001b[0;31m             \u001b[0marrV\u001b[0m\u001b[0;34m[\u001b[0m\u001b[0mj\u001b[0m\u001b[0;34m]\u001b[0m \u001b[0;34m+=\u001b[0m \u001b[0;34m(\u001b[0m\u001b[0marr\u001b[0m\u001b[0;34m[\u001b[0m\u001b[0mi\u001b[0m\u001b[0;34m]\u001b[0m\u001b[0;34m[\u001b[0m\u001b[0mj\u001b[0m\u001b[0;34m]\u001b[0m \u001b[0;34m-\u001b[0m \u001b[0mtwoDimMean\u001b[0m\u001b[0;34m[\u001b[0m\u001b[0mj\u001b[0m\u001b[0;34m]\u001b[0m\u001b[0;34m)\u001b[0m \u001b[0;34m**\u001b[0m\u001b[0;36m2\u001b[0m\u001b[0;34m\u001b[0m\u001b[0;34m\u001b[0m\u001b[0m\n\u001b[0m\u001b[1;32m      7\u001b[0m     \u001b[0;32mreturn\u001b[0m \u001b[0marrV\u001b[0m\u001b[0;34m[\u001b[0m\u001b[0;36m0\u001b[0m\u001b[0;34m]\u001b[0m\u001b[0;34m\u001b[0m\u001b[0;34m\u001b[0m\u001b[0m\n\u001b[1;32m      8\u001b[0m \u001b[0;34m\u001b[0m\u001b[0m\n",
      "\u001b[0;31mTypeError\u001b[0m: 'function' object is not subscriptable"
     ]
    }
   ],
   "source": [
    "def tVariance(arr):\n",
    "    arrV = [0]*len(arr[1])\n",
    "\n",
    "    for i in range(len(arr)):\n",
    "        for j in range(len(arr[1])):\n",
    "            arrV[j] += (arr[i][j] - twoDimMean[j]) **2\n",
    "    return arrV[0]\n",
    "\n",
    "tVariance(hearts)"
   ]
  },
  {
   "cell_type": "code",
   "execution_count": null,
   "metadata": {},
   "outputs": [],
   "source": []
  }
 ],
 "metadata": {
  "kernelspec": {
   "display_name": "Python 3 (ipykernel)",
   "language": "python",
   "name": "python3"
  },
  "language_info": {
   "codemirror_mode": {
    "name": "ipython",
    "version": 3
   },
   "file_extension": ".py",
   "mimetype": "text/x-python",
   "name": "python",
   "nbconvert_exporter": "python",
   "pygments_lexer": "ipython3",
   "version": "3.8.12"
  }
 },
 "nbformat": 4,
 "nbformat_minor": 2
}
