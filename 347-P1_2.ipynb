{
 "cells": [
  {
   "cell_type": "markdown",
   "metadata": {},
   "source": [
    "## Part 2: Write Python code for data analysis"
   ]
  },
  {
   "cell_type": "code",
   "execution_count": 2,
   "metadata": {},
   "outputs": [],
   "source": [
    "import numpy as np\n",
    "import math"
   ]
  },
  {
   "cell_type": "code",
   "execution_count": 6,
   "metadata": {},
   "outputs": [],
   "source": [
    "# 2-D Numerical Data Set\n",
    "twoDNum = np.array([[1, 2, 3, 4, 5, 6],\n",
    "                    [7, 8, 9, 10, 11, 12],\n",
    "                    [13, 14, 15, 16, 17, 18],\n",
    "                    [19, 20, 21, 22, 23, 24],\n",
    "                    [25, 26, 27, 28, 29, 30],\n",
    "                    [31, 32, 33, 34, 35, 36],\n",
    "                    [37, 38, 39, 40, 41, 42],\n",
    "                    [43, 44, 45, 46, 47, 48],\n",
    "                    [49, 50, 51, 52, 53, 54]])"
   ]
  },
  {
   "cell_type": "code",
   "execution_count": 4,
   "metadata": {},
   "outputs": [],
   "source": [
    "twoDNum2 = np.array([[1, 2, 3],[4, 5, 6],[7, 8, 9],[10, 11, 12]])"
   ]
  },
  {
   "cell_type": "code",
   "execution_count": 5,
   "metadata": {},
   "outputs": [],
   "source": [
    "# 2-D Categorical Data Set of Various Types\n",
    "twoDCat = np.array([['Yes', 'Green', 'Shirt', 'A'],['No', 'Blue', 'Pants', 'B'],['Yes', 'Red', 'Blouse', 'C'],['No', 'Yellow', 'Shirt', 'D']])\n"
   ]
  },
  {
   "cell_type": "code",
   "execution_count": 7,
   "metadata": {},
   "outputs": [],
   "source": [
    "# 1-D Vectors\n",
    "vector1 = np.array([1, 2, 3, 4, 5])\n",
    "vector2 = np.array([1, 2, 3, 4, 5])\n"
   ]
  },
  {
   "cell_type": "markdown",
   "metadata": {},
   "source": [
    "### (5 points) A function that will compute the mean of a numerical, multidimensional data set input as a 2-dimensional numpy array"
   ]
  },
  {
   "cell_type": "code",
   "execution_count": 16,
   "metadata": {},
   "outputs": [],
   "source": [
    "# Function for the multivariate mean of a numerical data set\n",
    "def twoDimMean(inputArr):\n",
    "    total = np.zeros([len(inputArr[0])])\n",
    "    num_elements = len(inputArr)\n",
    "\n",
    "    for i in range(len(inputArr)):\n",
    "        for j in range(len(inputArr[0])):\n",
    "            xi = inputArr[:, j]\n",
    "            total[j] = total[j] + xi[i]\n",
    "\n",
    "    mean = total\n",
    "    return mean\n"
   ]
  },
  {
   "cell_type": "code",
   "execution_count": 17,
   "metadata": {},
   "outputs": [
    {
     "name": "stdout",
     "output_type": "stream",
     "text": [
      "\n",
      "2-Dimensional Multivariate Mean: [225. 234. 243. 252. 261. 270.]\n"
     ]
    }
   ],
   "source": [
    "print(\"\\n2-Dimensional Multivariate Mean:\", twoDimMean(twoDNum))"
   ]
  },
  {
   "cell_type": "markdown",
   "metadata": {},
   "source": [
    "### (5 points) A function that will compute the estimated covariance between two attributes that are input as one-dimensional numpy vectors"
   ]
  },
  {
   "cell_type": "code",
   "execution_count": 38,
   "metadata": {},
   "outputs": [],
   "source": [
    "# Function for sample covariance between two attributes\n",
    "def covariance(a, b):\n",
    "    x, y, total = 0, 0, 0\n",
    "    n = len(a)\n",
    "    # attr. Sum \n",
    "    for i in range(n):\n",
    "        x = x + a[i]\n",
    "        y = y + b[i]\n",
    "    # attr. Mean\n",
    "    xMean = x / n\n",
    "    yMean = y / n\n",
    "    # Covariance sum\n",
    "    for i in range(n):\n",
    "        total = total + ((a[i]) - xMean) * ((b[i]) - yMean)\n",
    "    covariance = (1 / (n - 1)) * total\n",
    "    return covariance\n"
   ]
  },
  {
   "cell_type": "code",
   "execution_count": 40,
   "metadata": {},
   "outputs": [
    {
     "name": "stdout",
     "output_type": "stream",
     "text": [
      "\n",
      "Covariance: 2.500000\n"
     ]
    }
   ],
   "source": [
    "print(\"\\nCovariance: %f\" % covariance(vector1, vector2))"
   ]
  },
  {
   "cell_type": "markdown",
   "metadata": {},
   "source": [
    "### (5 points) A function that will compute the correlation between two attributes that are input as two numpy vectors."
   ]
  },
  {
   "cell_type": "code",
   "execution_count": 18,
   "metadata": {},
   "outputs": [],
   "source": [
    "# Function for correlation between two attributes\n",
    "def correlation(p1, p2):\n",
    "    x, y, axb, a2, b2 = 0, 0, 0, 0, 0\n",
    "    n = len(p1)\n",
    "\n",
    "    for i in range(n):\n",
    "        x = x + p1[i]\n",
    "        y = y + p2[i]\n",
    "\n",
    "    x_mean = x / n\n",
    "    y_mean = y / n\n",
    "\n",
    "    for i in range(n):\n",
    "        a = (p1[i] - x_mean)\n",
    "        b = (p2[i] - y_mean)\n",
    "        axb = axb + (a * b)\n",
    "        a2 = a2 + (a * a)\n",
    "        b2 = b2 + (b * b)\n",
    "    \n",
    "    correlation = axb / (math.sqrt(a2 * b2))\n",
    "    \n",
    "    return correlation\n"
   ]
  },
  {
   "cell_type": "code",
   "execution_count": 19,
   "metadata": {},
   "outputs": [
    {
     "name": "stdout",
     "output_type": "stream",
     "text": [
      "\n",
      "Correlation: 1.000000\n"
     ]
    }
   ],
   "source": [
    "print(\"\\nCorrelation: %f\" % correlation(vector1, vector2))"
   ]
  },
  {
   "cell_type": "markdown",
   "metadata": {},
   "source": [
    "### A function that will normalize the attributes in a two-dimensional numpy array using range normalization."
   ]
  },
  {
   "cell_type": "code",
   "execution_count": 20,
   "metadata": {},
   "outputs": [],
   "source": [
    "\n",
    "# Function for min by column\n",
    "# ref: https://www.geeksforgeeks.org/program-find-minimum-maximum-element-array/\n",
    "def getMin(input_arr):\n",
    "    value = input_arr[0]\n",
    "    n = len(input_arr)\n",
    "    for i in range(1, n):\n",
    "        value = min(value, input_arr[i])\n",
    "    return value\n",
    "\n",
    "\n",
    "# Function for max by column\n",
    "# ref: https://www.geeksforgeeks.org/program-find-minimum-maximum-element-array/\n",
    "def getMax(input_arr):\n",
    "    value = input_arr[0]\n",
    "    n = len(input_arr)\n",
    "    for i in range(1, n):\n",
    "        value = max(value, input_arr[i])\n",
    "    return value\n",
    "\n",
    "def rangeNormal(input_arr):\n",
    "    rowLen = len(input_arr)\n",
    "    colLen = len(input_arr[0])\n",
    "    rngNormal = np.empty([rowLen, colLen])\n",
    "    \n",
    "    for row in range(rowLen):\n",
    "        for col in range(colLen):\n",
    "            max_min = getMax(input_arr[:, col]) - getMin(input_arr[:, col])\n",
    "            x_sub_min = (input_arr[row][col] - getMin(input_arr[:, col]))\n",
    "            rngNormal[row][col] = x_sub_min / max_min\n",
    "    return rngNormal\n"
   ]
  },
  {
   "cell_type": "code",
   "execution_count": 21,
   "metadata": {},
   "outputs": [
    {
     "name": "stdout",
     "output_type": "stream",
     "text": [
      "\n",
      "Range Normalized Data:\n",
      " [[0.    0.    0.    0.    0.    0.   ]\n",
      " [0.125 0.125 0.125 0.125 0.125 0.125]\n",
      " [0.25  0.25  0.25  0.25  0.25  0.25 ]\n",
      " [0.375 0.375 0.375 0.375 0.375 0.375]\n",
      " [0.5   0.5   0.5   0.5   0.5   0.5  ]\n",
      " [0.625 0.625 0.625 0.625 0.625 0.625]\n",
      " [0.75  0.75  0.75  0.75  0.75  0.75 ]\n",
      " [0.875 0.875 0.875 0.875 0.875 0.875]\n",
      " [1.    1.    1.    1.    1.    1.   ]]\n"
     ]
    }
   ],
   "source": [
    "print(\"\\nRange Normalized Data:\\n\", rangeNormal(twoDNum))"
   ]
  },
  {
   "cell_type": "markdown",
   "metadata": {},
   "source": [
    "### (5 points) A function that will normalize the attributes in a two-dimensional numpy array using standard normalization"
   ]
  },
  {
   "cell_type": "code",
   "execution_count": 41,
   "metadata": {},
   "outputs": [],
   "source": [
    "# Helper function \n",
    "def oneDimMean(inputArr):\n",
    "    total = 0\n",
    "    numElements = 0\n",
    "\n",
    "    for i in range(len(inputArr)):\n",
    "        total = total + inputArr[i]\n",
    "        numElements = numElements + 1\n",
    "    mean = total / numElements\n",
    "    return mean\n",
    "\n",
    "\n",
    "# Helper function for SD\n",
    "def stdDevHelper(inputArr):\n",
    "    total = 0\n",
    "    numElements = 0\n",
    "    mean = oneDimMean(inputArr)\n",
    "\n",
    "    for i in range(len(inputArr)):\n",
    "        total = total + (inputArr[i] - mean) ** 2\n",
    "        numElements = numElements + 1\n",
    "\n",
    "    std_dev = math.sqrt(total / (numElements - 1))\n",
    "    return std_dev\n",
    "\n",
    "\n",
    "def listUnique(inputArr):\n",
    "    unique = []\n",
    "    for x in inputArr:\n",
    "        if x not in unique:\n",
    "            unique.append(x)\n",
    "    return unique\n",
    "\n",
    "\n",
    "def stdNormal(inputArr):\n",
    "    rowLen = len(inputArr)\n",
    "    colLen = len(inputArr[0])\n",
    "\n",
    "    stdNormal = np.empty([rowLen, colLen])\n",
    "    for i in range(rowLen):\n",
    "        for j in range(colLen):\n",
    "            xi = inputArr[i][j]\n",
    "            colMean = oneDimMean(inputArr[:, j])\n",
    "            stdDev = stdDevHelper(inputArr[:, j])\n",
    "            stdNormal[i][j] = (xi - colMean) / stdDev\n",
    "    return stdNormal"
   ]
  },
  {
   "cell_type": "code",
   "execution_count": 42,
   "metadata": {},
   "outputs": [
    {
     "name": "stdout",
     "output_type": "stream",
     "text": [
      "\n",
      "Standard Normalized Data:\n",
      " [[-1.46059349 -1.46059349 -1.46059349 -1.46059349 -1.46059349 -1.46059349]\n",
      " [-1.09544512 -1.09544512 -1.09544512 -1.09544512 -1.09544512 -1.09544512]\n",
      " [-0.73029674 -0.73029674 -0.73029674 -0.73029674 -0.73029674 -0.73029674]\n",
      " [-0.36514837 -0.36514837 -0.36514837 -0.36514837 -0.36514837 -0.36514837]\n",
      " [ 0.          0.          0.          0.          0.          0.        ]\n",
      " [ 0.36514837  0.36514837  0.36514837  0.36514837  0.36514837  0.36514837]\n",
      " [ 0.73029674  0.73029674  0.73029674  0.73029674  0.73029674  0.73029674]\n",
      " [ 1.09544512  1.09544512  1.09544512  1.09544512  1.09544512  1.09544512]\n",
      " [ 1.46059349  1.46059349  1.46059349  1.46059349  1.46059349  1.46059349]]\n"
     ]
    }
   ],
   "source": [
    "print(\"\\nStandard Normalized Data:\\n\", stdNormal(twoDNum))"
   ]
  },
  {
   "cell_type": "markdown",
   "metadata": {},
   "source": [
    "### (5 points) A function that will compute the covariance matrix of a data set."
   ]
  },
  {
   "cell_type": "code",
   "execution_count": 43,
   "metadata": {},
   "outputs": [],
   "source": [
    "def covarMatrix(inputArr):\n",
    "    dim = np.array = inputArr.shape\n",
    "    rowLen = dim[1]\n",
    "    \n",
    "    covarMatrix = np.empty([rowLen, rowLen])\n",
    "    for i in range(rowLen):\n",
    "        for j in range(rowLen):\n",
    "            xi = inputArr[:, i]\n",
    "            xj = inputArr[:, j]\n",
    "\n",
    "            covarMatrix[i][j] = covariance(xi, xj)\n",
    "    return covarMatrix"
   ]
  },
  {
   "cell_type": "code",
   "execution_count": 44,
   "metadata": {},
   "outputs": [
    {
     "name": "stdout",
     "output_type": "stream",
     "text": [
      "\n",
      "Covariance Matrix:\n",
      " [[270. 270. 270. 270. 270. 270.]\n",
      " [270. 270. 270. 270. 270. 270.]\n",
      " [270. 270. 270. 270. 270. 270.]\n",
      " [270. 270. 270. 270. 270. 270.]\n",
      " [270. 270. 270. 270. 270. 270.]\n",
      " [270. 270. 270. 270. 270. 270.]]\n"
     ]
    }
   ],
   "source": [
    "print(\"\\nCovariance Matrix:\\n\", covarMatrix(twoDNum))"
   ]
  },
  {
   "cell_type": "markdown",
   "metadata": {},
   "source": [
    "### (5 points) A function that will label-encode a two-dimensional categorical data array that is passed in as input."
   ]
  },
  {
   "cell_type": "code",
   "execution_count": 47,
   "metadata": {},
   "outputs": [],
   "source": [
    "def labelEncode(inputArr):\n",
    "    rowLen = len(inputArr)\n",
    "    colLen = len(inputArr[0])\n",
    "\n",
    "    lblEncoded = np.empty([rowLen, colLen])\n",
    "    for i in range(rowLen):\n",
    "        for j in range(colLen):\n",
    "            xi = inputArr[:, j]\n",
    "            xu = listUnique(xi)\n",
    "            lblEncoded[i][j] = xu.index(xi[i]) + 1\n",
    "\n",
    "    return lblEncoded\n"
   ]
  },
  {
   "cell_type": "code",
   "execution_count": 48,
   "metadata": {},
   "outputs": [
    {
     "name": "stdout",
     "output_type": "stream",
     "text": [
      "\n",
      "Label Encoded Matrix:\n",
      " [[1. 1. 1. 1.]\n",
      " [2. 2. 2. 2.]\n",
      " [1. 3. 3. 3.]\n",
      " [2. 4. 1. 4.]]\n"
     ]
    }
   ],
   "source": [
    "print(\"\\nLabel Encoded Matrix:\\n\", labelEncode(twoDCat))"
   ]
  },
  {
   "cell_type": "code",
   "execution_count": null,
   "metadata": {},
   "outputs": [],
   "source": []
  }
 ],
 "metadata": {
  "kernelspec": {
   "display_name": "Python 3 (ipykernel)",
   "language": "python",
   "name": "python3"
  },
  "language_info": {
   "codemirror_mode": {
    "name": "ipython",
    "version": 3
   },
   "file_extension": ".py",
   "mimetype": "text/x-python",
   "name": "python",
   "nbconvert_exporter": "python",
   "pygments_lexer": "ipython3",
   "version": "3.9.7"
  }
 },
 "nbformat": 4,
 "nbformat_minor": 2
}