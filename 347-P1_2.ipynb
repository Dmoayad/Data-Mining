{
 "cells": [
  {
   "cell_type": "markdown",
   "metadata": {},
   "source": [
    "## Names\n",
    "Philip lastName, Moiyad Lastname."
   ]
  },
  {
   "cell_type": "markdown",
   "metadata": {},
   "source": [
    "## Part 1: ....."
   ]
  },
  {
   "cell_type": "markdown",
   "metadata": {},
   "source": [
    "## Part 2: Write Python code for data analysis"
   ]
  },
  {
   "cell_type": "code",
   "execution_count": 85,
   "metadata": {},
   "outputs": [
    {
     "data": {
      "text/plain": [
       "array([[70.,  1.,  4., ...,  3.,  3.,  2.],\n",
       "       [67.,  0.,  3., ...,  0.,  7.,  1.],\n",
       "       [57.,  1.,  2., ...,  0.,  7.,  2.],\n",
       "       ...,\n",
       "       [56.,  0.,  2., ...,  0.,  3.,  1.],\n",
       "       [57.,  1.,  4., ...,  0.,  6.,  1.],\n",
       "       [67.,  1.,  4., ...,  3.,  3.,  2.]])"
      ]
     },
     "execution_count": 85,
     "metadata": {},
     "output_type": "execute_result"
    }
   ],
   "source": [
    "import numpy as np\n",
    "import math\n",
    "import matplotlib.pyplot as plt\n",
    "np.set_printoptions(precision=3)\n",
    "\n",
    "hearts = np.loadtxt(\"./data/heart.csv\", delimiter=\",\")\n",
    "\n",
    "# hearts"
   ]
  },
  {
   "cell_type": "code",
   "execution_count": 2,
   "metadata": {},
   "outputs": [],
   "source": [
    "# 2-D Numerical Data Set\n",
    "twoDNum = np.array([[1, 2, 3, 4, 5, 6],\n",
    "                    [7, 8, 9, 10, 11, 12],\n",
    "                    [13, 14, 15, 16, 17, 18],\n",
    "                    [19, 20, 21, 22, 23, 24],\n",
    "                    [25, 26, 27, 28, 29, 30],\n",
    "                    [31, 32, 33, 34, 35, 36],\n",
    "                    [37, 38, 39, 40, 41, 42],\n",
    "                    [43, 44, 45, 46, 47, 48],\n",
    "                    [49, 50, 51, 52, 53, 54]])\n",
    "\n",
    "                \n",
    "oneHotMatrix=np.array([[1, 0, 0, 1, 0, 1, 0, 0, 0],\n",
    "                       [0, 1, 0, 0, 1, 0, 1, 0, 0],\n",
    "                       [0, 0, 1, 0, 1, 0, 0, 1, 0],\n",
    "                       [0, 0, 1, 0, 1, 0, 0, 0, 1],\n",
    "                       [1, 0, 0, 1, 0, 1, 0, 0, 0],\n",
    "                       [0, 0, 1, 1, 0, 1, 0, 0, 0],\n",
    "                       [0, 1, 0, 0, 1, 0, 0, 0, 1]])"
   ]
  },
  {
   "cell_type": "code",
   "execution_count": 3,
   "metadata": {},
   "outputs": [],
   "source": [
    "twoDNum2 = np.array([[1, 2, 3],[4, 5, 6],[7, 8, 9],[10, 11, 12]])"
   ]
  },
  {
   "cell_type": "code",
   "execution_count": 4,
   "metadata": {},
   "outputs": [],
   "source": [
    "# 2-D Categorical Data Set of Various Types\n",
    "twoDCat = np.array([['Yes', 'Green', 'Shirt', 'A'],['No', 'Blue', 'Pants', 'B'],['Yes', 'Red', 'Blouse', 'C'],['No', 'Yellow', 'Shirt', 'D']])\n"
   ]
  },
  {
   "cell_type": "code",
   "execution_count": 5,
   "metadata": {},
   "outputs": [],
   "source": [
    "# 1-D Vectors\n",
    "vector1 = np.array([1, 2, 3, 4, 5])\n",
    "vector2 = np.array([1, 2, 3, 4, 5])\n"
   ]
  },
  {
   "cell_type": "markdown",
   "metadata": {},
   "source": [
    "#### 2a) (5 points) A function that will compute the mean of a numerical, multidimensional data set input as a 2-dimensional numpy array"
   ]
  },
  {
   "cell_type": "code",
   "execution_count": 6,
   "metadata": {},
   "outputs": [],
   "source": [
    "# Function for the multivariate mean of a numerical data set\n",
    "def twoDimMean(inputArr):\n",
    "    total = np.zeros([len(inputArr[0])])\n",
    "    num_elements = len(inputArr)\n",
    "\n",
    "    for i in range(len(inputArr)):\n",
    "        for j in range(len(inputArr[0])):\n",
    "            xi = inputArr[:, j]\n",
    "            total[j] = total[j] + xi[i]\n",
    "\n",
    "    mean = total/num_elements\n",
    "    return mean\n"
   ]
  },
  {
   "cell_type": "code",
   "execution_count": 7,
   "metadata": {},
   "outputs": [
    {
     "name": "stdout",
     "output_type": "stream",
     "text": [
      "\n",
      "2-Dimensional Multivariate Mean: [25. 26. 27. 28. 29. 30.]\n"
     ]
    }
   ],
   "source": [
    "print(\"\\n2-Dimensional Multivariate Mean:\", twoDimMean(twoDNum))\n",
    "# test : fixed. now correct\n",
    "# print(\"mean: \", np.mean(twoDNum, 0))"
   ]
  },
  {
   "cell_type": "markdown",
   "metadata": {},
   "source": [
    "#### 2b) (5 points) A function that will compute the estimated covariance between two attributes that are input as one-dimensional numpy vectors"
   ]
  },
  {
   "cell_type": "code",
   "execution_count": 71,
   "metadata": {},
   "outputs": [],
   "source": [
    "# Function for sample covariance between two attributes\n",
    "def covariance(a, b):\n",
    "    x, y, total = 0, 0, 0\n",
    "    n = len(a)\n",
    "    # attr. Sum \n",
    "    for i in range(n):\n",
    "        x = x + a[i]\n",
    "        y = y + b[i]\n",
    "    # attr. Mean\n",
    "    xMean = x / n\n",
    "    yMean = y / n\n",
    "\n",
    "    # Covariance sum\n",
    "    for i in range(n):\n",
    "        total = total + ((a[i]) - xMean) * ((b[i]) - yMean)\n",
    "    covariance = (1 / (n - 1)) * total\n",
    "    return covariance\n"
   ]
  },
  {
   "cell_type": "code",
   "execution_count": 72,
   "metadata": {},
   "outputs": [
    {
     "name": "stdout",
     "output_type": "stream",
     "text": [
      "\n",
      "Covariance:  2.5\n"
     ]
    }
   ],
   "source": [
    "print(\"\\nCovariance: \", covariance(vector1, vector2))\n",
    "# test : correct.\n",
    "# print(\"cov: \", np.cov(vector1, vector2)[0][0])"
   ]
  },
  {
   "cell_type": "markdown",
   "metadata": {},
   "source": [
    "#### 2c) (5 points) A function that will compute the correlation between two attributes that are input as two numpy vectors."
   ]
  },
  {
   "cell_type": "code",
   "execution_count": 10,
   "metadata": {},
   "outputs": [],
   "source": [
    "# Function for correlation between two attributes\n",
    "def correlation(p1, p2):\n",
    "    x, y, axb, a2, b2 = 0, 0, 0, 0, 0\n",
    "    n = len(p1)\n",
    "\n",
    "    for i in range(n):\n",
    "        x = x + p1[i]\n",
    "        y = y + p2[i]\n",
    "\n",
    "    x_mean = x / n\n",
    "    y_mean = y / n\n",
    "\n",
    "    for i in range(n):\n",
    "        a = (p1[i] - x_mean)\n",
    "        b = (p2[i] - y_mean)\n",
    "        axb = axb + (a * b)\n",
    "        a2 = a2 + (a * a)\n",
    "        b2 = b2 + (b * b)\n",
    "    \n",
    "    correlation = axb / (math.sqrt(a2 * b2))\n",
    "    \n",
    "    return correlation\n"
   ]
  },
  {
   "cell_type": "code",
   "execution_count": 11,
   "metadata": {},
   "outputs": [
    {
     "name": "stdout",
     "output_type": "stream",
     "text": [
      "\n",
      "Correlation: 1.000000\n"
     ]
    }
   ],
   "source": [
    "print(\"\\nCorrelation: %f\" % correlation(vector1, vector2))\n",
    "\n",
    "# test : correct.\n",
    "# print(\"corr %f\" % np.corrcoef(vector1,vector2)[0][0])"
   ]
  },
  {
   "cell_type": "markdown",
   "metadata": {},
   "source": [
    "#### 2d) A function that will normalize the attributes in a two-dimensional numpy array using range normalization."
   ]
  },
  {
   "cell_type": "code",
   "execution_count": 33,
   "metadata": {},
   "outputs": [],
   "source": [
    "\n",
    "# Function for min by column\n",
    "# ref: https://www.geeksforgeeks.org/program-find-minimum-maximum-element-array/\n",
    "def getMin(inputArr):\n",
    "    value = inputArr[0]\n",
    "    n = len(inputArr)\n",
    "    for i in range(1, n):\n",
    "        value = min(value, inputArr[i])\n",
    "    return value\n",
    "\n",
    "\n",
    "# Function for max by column\n",
    "# ref: https://www.geeksforgeeks.org/program-find-minimum-maximum-element-array/\n",
    "def getMax(inputArr):\n",
    "    value = inputArr[0]\n",
    "    n = len(inputArr)\n",
    "    for i in range(1, n):\n",
    "        value = max(value, inputArr[i])\n",
    "    return value\n",
    "\n",
    "def rangeNormal(inputArr):\n",
    "    rowLen = len(inputArr)\n",
    "    colLen = len(inputArr[0])\n",
    "    rngNormal = np.empty([rowLen, colLen])\n",
    "    \n",
    "    for row in range(rowLen):\n",
    "        for col in range(colLen):\n",
    "            max_min = getMax(inputArr[:, col]) - getMin(inputArr[:, col])\n",
    "            x_sub_min = (inputArr[row][col] - getMin(inputArr[:, col]))\n",
    "            rngNormal[row][col] = x_sub_min / max_min\n",
    "    return rngNormal\n"
   ]
  },
  {
   "cell_type": "code",
   "execution_count": 34,
   "metadata": {},
   "outputs": [
    {
     "name": "stdout",
     "output_type": "stream",
     "text": [
      "\n",
      "Range Normalized Data:\n",
      " [[0.    0.    0.    0.    0.    0.   ]\n",
      " [0.125 0.125 0.125 0.125 0.125 0.125]\n",
      " [0.25  0.25  0.25  0.25  0.25  0.25 ]\n",
      " [0.375 0.375 0.375 0.375 0.375 0.375]\n",
      " [0.5   0.5   0.5   0.5   0.5   0.5  ]\n",
      " [0.625 0.625 0.625 0.625 0.625 0.625]\n",
      " [0.75  0.75  0.75  0.75  0.75  0.75 ]\n",
      " [0.875 0.875 0.875 0.875 0.875 0.875]\n",
      " [1.    1.    1.    1.    1.    1.   ]]\n",
      "range normalized 2:  [[0.    0.    0.   ]\n",
      " [0.333 0.333 0.333]\n",
      " [0.667 0.667 0.667]\n",
      " [1.    1.    1.   ]]\n"
     ]
    }
   ],
   "source": [
    "print(\"\\nRange Normalized Data:\\n\", rangeNormal(twoDNum))\n",
    "print(\"range normalized 2: \", rangeNormal(twoDNum2))"
   ]
  },
  {
   "cell_type": "markdown",
   "metadata": {},
   "source": [
    "#### 2e) (5 points) A function that will normalize the attributes in a two-dimensional numpy array using standard normalization"
   ]
  },
  {
   "cell_type": "code",
   "execution_count": 14,
   "metadata": {},
   "outputs": [],
   "source": [
    "# Helper function \n",
    "def oneDimMean(inputArr):\n",
    "    total = 0\n",
    "    numElements = 0\n",
    "\n",
    "    for i in range(len(inputArr)):\n",
    "        total = total + inputArr[i]\n",
    "        numElements = numElements + 1\n",
    "    mean = total / numElements\n",
    "    return mean\n",
    "\n",
    "\n",
    "# Helper function for SD\n",
    "def stdDevHelper(inputArr):\n",
    "    total = 0\n",
    "    numElements = 0\n",
    "    mean = oneDimMean(inputArr)\n",
    "\n",
    "    for i in range(len(inputArr)):\n",
    "        total = total + (inputArr[i] - mean) ** 2\n",
    "        numElements = numElements + 1\n",
    "\n",
    "    std_dev = math.sqrt(total / (numElements - 1))\n",
    "    return std_dev\n",
    "\n",
    "\n",
    "def listUnique(inputArr):\n",
    "    unique = []\n",
    "    for x in inputArr:\n",
    "        if x not in unique:\n",
    "            unique.append(x)\n",
    "    return unique\n",
    "\n",
    "\n",
    "def stdNormal(inputArr):\n",
    "    rowLen = len(inputArr)\n",
    "    colLen = len(inputArr[0])\n",
    "\n",
    "    stdNormal = np.empty([rowLen, colLen])\n",
    "    for i in range(rowLen):\n",
    "        for j in range(colLen):\n",
    "            xi = inputArr[i][j]\n",
    "            colMean = oneDimMean(inputArr[:, j])\n",
    "            stdDev = stdDevHelper(inputArr[:, j])\n",
    "            stdNormal[i][j] = (xi - colMean) / stdDev\n",
    "    return stdNormal"
   ]
  },
  {
   "cell_type": "code",
   "execution_count": 15,
   "metadata": {},
   "outputs": [
    {
     "data": {
      "text/plain": [
       "array([[0., 0., 0., 1.],\n",
       "       [1., 1., 1., 0.]])"
      ]
     },
     "execution_count": 15,
     "metadata": {},
     "output_type": "execute_result"
    }
   ],
   "source": [
    "# print(\"\\nStandard Normalized Data:\\n\", stdNormal(twoDNum))\n",
    "\n",
    "# test: correct!\n",
    "# np.set_printoptions(precision=3)\n",
    "# print(stdNormal(oneHotMatrix))\n",
    "\n",
    "rangeNormal(np.array([[1, 2, 3, 4], [3, 5, 8, 3]]))"
   ]
  },
  {
   "cell_type": "markdown",
   "metadata": {},
   "source": [
    "#### 2f) (5 points) A function that will compute the covariance matrix of a data set."
   ]
  },
  {
   "cell_type": "code",
   "execution_count": 47,
   "metadata": {},
   "outputs": [],
   "source": [
    "def covarMatrix(inputArr):\n",
    "    # dim = np.array = inputArr.shape\n",
    "    rowLen = inputArr.shape[1]\n",
    "    \n",
    "    covarMatrix = np.empty([rowLen, rowLen])\n",
    "    for i in range(rowLen):\n",
    "        for j in range(rowLen):\n",
    "            xi = inputArr[:, i]\n",
    "            xj = inputArr[:, j]\n",
    "            covarMatrix[i,j] = covariance(xi, xj)\n",
    "    return covarMatrix\n",
    "\n",
    "# def totalVariance(inputArr):\n",
    "#     nrow = len(inputArr[0])\n"
   ]
  },
  {
   "cell_type": "code",
   "execution_count": 64,
   "metadata": {},
   "outputs": [
    {
     "ename": "TypeError",
     "evalue": "'numpy.ndarray' object is not callable",
     "output_type": "error",
     "traceback": [
      "\u001b[0;31m---------------------------------------------------------------------------\u001b[0m",
      "\u001b[0;31mTypeError\u001b[0m                                 Traceback (most recent call last)",
      "\u001b[0;32m/var/folders/wf/wl9jdcgd2_g1z38fw_drhfgc0000gn/T/ipykernel_98751/2495738654.py\u001b[0m in \u001b[0;36m<module>\u001b[0;34m\u001b[0m\n\u001b[1;32m      1\u001b[0m \u001b[0;31m# print(\"\\nCovariance Matrix:\\n\", covarMatrix(twoDNum))\u001b[0m\u001b[0;34m\u001b[0m\u001b[0;34m\u001b[0m\u001b[0;34m\u001b[0m\u001b[0m\n\u001b[0;32m----> 2\u001b[0;31m \u001b[0mcovarHearts\u001b[0m \u001b[0;34m=\u001b[0m \u001b[0mcovarMatrix\u001b[0m\u001b[0;34m(\u001b[0m\u001b[0mhearts\u001b[0m\u001b[0;34m)\u001b[0m\u001b[0;34m\u001b[0m\u001b[0;34m\u001b[0m\u001b[0m\n\u001b[0m\u001b[1;32m      3\u001b[0m \u001b[0mtotalVar\u001b[0m \u001b[0;34m=\u001b[0m \u001b[0;36m0\u001b[0m\u001b[0;34m\u001b[0m\u001b[0;34m\u001b[0m\u001b[0m\n\u001b[1;32m      4\u001b[0m \u001b[0;32mfor\u001b[0m \u001b[0mi\u001b[0m \u001b[0;32min\u001b[0m \u001b[0mrange\u001b[0m\u001b[0;34m(\u001b[0m\u001b[0mhearts\u001b[0m\u001b[0;34m.\u001b[0m\u001b[0mshape\u001b[0m\u001b[0;34m[\u001b[0m\u001b[0;36m1\u001b[0m\u001b[0;34m]\u001b[0m\u001b[0;34m)\u001b[0m\u001b[0;34m:\u001b[0m\u001b[0;34m\u001b[0m\u001b[0;34m\u001b[0m\u001b[0m\n\u001b[1;32m      5\u001b[0m     \u001b[0mtotalVar\u001b[0m \u001b[0;34m+=\u001b[0m \u001b[0mcovariance\u001b[0m\u001b[0;34m(\u001b[0m\u001b[0mhearts\u001b[0m\u001b[0;34m[\u001b[0m\u001b[0;34m:\u001b[0m\u001b[0;34m,\u001b[0m\u001b[0mi\u001b[0m\u001b[0;34m]\u001b[0m\u001b[0;34m,\u001b[0m \u001b[0mhearts\u001b[0m\u001b[0;34m[\u001b[0m\u001b[0;34m:\u001b[0m\u001b[0;34m,\u001b[0m\u001b[0mi\u001b[0m\u001b[0;34m]\u001b[0m\u001b[0;34m)\u001b[0m\u001b[0;34m\u001b[0m\u001b[0;34m\u001b[0m\u001b[0m\n",
      "\u001b[0;32m/var/folders/wf/wl9jdcgd2_g1z38fw_drhfgc0000gn/T/ipykernel_98751/2175379963.py\u001b[0m in \u001b[0;36mcovarMatrix\u001b[0;34m(inputArr)\u001b[0m\n\u001b[1;32m      8\u001b[0m             \u001b[0mxi\u001b[0m \u001b[0;34m=\u001b[0m \u001b[0minputArr\u001b[0m\u001b[0;34m[\u001b[0m\u001b[0;34m:\u001b[0m\u001b[0;34m,\u001b[0m \u001b[0mi\u001b[0m\u001b[0;34m]\u001b[0m\u001b[0;34m\u001b[0m\u001b[0;34m\u001b[0m\u001b[0m\n\u001b[1;32m      9\u001b[0m             \u001b[0mxj\u001b[0m \u001b[0;34m=\u001b[0m \u001b[0minputArr\u001b[0m\u001b[0;34m[\u001b[0m\u001b[0;34m:\u001b[0m\u001b[0;34m,\u001b[0m \u001b[0mj\u001b[0m\u001b[0;34m]\u001b[0m\u001b[0;34m\u001b[0m\u001b[0;34m\u001b[0m\u001b[0m\n\u001b[0;32m---> 10\u001b[0;31m             \u001b[0mcovarMatrix\u001b[0m\u001b[0;34m[\u001b[0m\u001b[0mi\u001b[0m\u001b[0;34m,\u001b[0m\u001b[0mj\u001b[0m\u001b[0;34m]\u001b[0m \u001b[0;34m=\u001b[0m \u001b[0mcovariance\u001b[0m\u001b[0;34m(\u001b[0m\u001b[0mxi\u001b[0m\u001b[0;34m,\u001b[0m \u001b[0mxj\u001b[0m\u001b[0;34m)\u001b[0m\u001b[0;34m\u001b[0m\u001b[0;34m\u001b[0m\u001b[0m\n\u001b[0m\u001b[1;32m     11\u001b[0m     \u001b[0;32mreturn\u001b[0m \u001b[0mcovarMatrix\u001b[0m\u001b[0;34m\u001b[0m\u001b[0;34m\u001b[0m\u001b[0m\n\u001b[1;32m     12\u001b[0m \u001b[0;34m\u001b[0m\u001b[0m\n",
      "\u001b[0;31mTypeError\u001b[0m: 'numpy.ndarray' object is not callable"
     ]
    }
   ],
   "source": [
    "# print(\"\\nCovariance Matrix:\\n\", covarMatrix(twoDNum))\n",
    "covarHearts = covarMatrix(hearts)\n",
    "# totalVar = 0\n",
    "# for i in range(hearts.shape[1]):\n",
    "#     totalVar += covariance(hearts[:,i], hearts[:,i])\n",
    "\n",
    "# totalVar"
   ]
  },
  {
   "cell_type": "markdown",
   "metadata": {},
   "source": [
    "#### 2g) (5 points) A function that will label-encode a two-dimensional categorical data array that is passed in as input."
   ]
  },
  {
   "cell_type": "code",
   "execution_count": 18,
   "metadata": {},
   "outputs": [],
   "source": [
    "def labelEncode(inputArr):\n",
    "    rowLen = len(inputArr)\n",
    "    colLen = len(inputArr[0])\n",
    "\n",
    "    lblEncoded = np.empty([rowLen, colLen])\n",
    "    for i in range(rowLen):\n",
    "        for j in range(colLen):\n",
    "            xi = inputArr[:, j]\n",
    "            xu = listUnique(xi)\n",
    "            lblEncoded[i][j] = xu.index(xi[i]) + 1\n",
    "\n",
    "    return lblEncoded\n"
   ]
  },
  {
   "cell_type": "code",
   "execution_count": 19,
   "metadata": {},
   "outputs": [
    {
     "name": "stdout",
     "output_type": "stream",
     "text": [
      "\n",
      "Label Encoded Matrix:\n",
      " [[1. 1. 1. 1.]\n",
      " [2. 2. 2. 2.]\n",
      " [1. 3. 3. 3.]\n",
      " [2. 4. 1. 4.]]\n"
     ]
    }
   ],
   "source": [
    "print(\"\\nLabel Encoded Matrix:\\n\", labelEncode(twoDCat))"
   ]
  },
  {
   "cell_type": "markdown",
   "metadata": {},
   "source": [
    "## Part 3"
   ]
  },
  {
   "cell_type": "markdown",
   "metadata": {},
   "source": [
    "### Convert all categorical attributes using label encoding or one-hot-encoding\n",
    "a) All categorical variables are already label encoded.\n",
    "### If your data has missing values, fill in those values with the attribute mean.\n",
    "b) There are no missing values.\n",
    "\n",
    "c) mean of the data"
   ]
  },
  {
   "cell_type": "code",
   "execution_count": 20,
   "metadata": {
    "scrolled": true
   },
   "outputs": [
    {
     "name": "stdout",
     "output_type": "stream",
     "text": [
      "[5.443e+01 6.778e-01 3.174e+00 1.313e+02 2.497e+02 1.481e-01 1.022e+00\n",
      " 1.497e+02 3.296e-01 1.050e+00 1.585e+00 6.704e-01 4.696e+00 1.444e+00]\n"
     ]
    }
   ],
   "source": [
    "print(twoDimMean(hearts))\n",
    "# hearts.mean(0)\n",
    "# need to remove non numerical values."
   ]
  },
  {
   "cell_type": "code",
   "execution_count": 21,
   "metadata": {},
   "outputs": [
    {
     "name": "stdout",
     "output_type": "stream",
     "text": [
      "[[ 8.298e+01 -4.026e-01  8.388e-01  4.443e+01  1.036e+02  4.002e-01\n",
      "   1.165e+00 -8.487e+01  4.217e-01  2.026e+00  8.942e-01  3.062e+00\n",
      "   1.876e+00  9.628e-01]\n",
      " [-4.026e-01  2.192e-01  1.541e-02 -5.243e-01 -4.880e+00  7.022e-03\n",
      "   1.834e-02 -8.254e-01  3.969e-02  5.223e-02  1.454e-02  3.837e-02\n",
      "   3.553e-01  6.939e-02]\n",
      " [ 8.388e-01  1.541e-02  9.027e-01 -7.330e-01  4.442e+00 -3.332e-02\n",
      "   7.047e-02 -6.992e+00  1.580e-01  1.820e-01  7.991e-02  2.026e-01\n",
      "   4.843e-01  1.974e-01]\n",
      " [ 4.443e+01 -5.243e-01 -7.330e-01  3.190e+02  1.597e+02  9.897e-01\n",
      "   2.070e+00 -1.619e+01  6.964e-01  4.557e+00  1.563e+00  1.445e+00\n",
      "   4.577e+00  1.382e+00]\n",
      " [ 1.036e+02 -4.880e+00  4.442e+00  1.597e+02  2.671e+03  4.633e-01\n",
      "   8.647e+00 -2.244e+01  1.905e+00  1.640e+00 -1.828e-01  6.174e+00\n",
      "   2.892e+00  3.037e+00]\n",
      " [ 4.002e-01  7.022e-03 -3.332e-02  9.897e-01  4.633e-01  1.267e-01\n",
      "   1.900e-02  1.855e-01 -6.884e-04 -1.041e-02  9.638e-03  4.158e-02\n",
      "   3.401e-02 -2.891e-03]\n",
      " [ 1.165e+00  1.834e-02  7.047e-02  2.070e+00  8.647e+00  1.900e-02\n",
      "   9.958e-01 -1.725e+00  4.469e-02  1.372e-01  9.847e-02  1.077e-01\n",
      "   1.421e-02  9.046e-02]\n",
      " [-8.487e+01 -8.254e-01 -6.992e+00 -1.619e+01 -2.244e+01  1.855e-01\n",
      "  -1.725e+00  5.367e+02 -4.154e+00 -9.260e+00 -5.506e+00 -5.802e+00\n",
      "  -1.139e+01 -4.827e+00]\n",
      " [ 4.217e-01  3.969e-02  1.580e-01  6.964e-01  1.905e+00 -6.884e-04\n",
      "   4.469e-02 -4.154e+00  2.218e-01  1.481e-01  7.405e-02  6.817e-02\n",
      "   2.938e-01  9.831e-02]\n",
      " [ 2.026e+00  5.223e-02  1.820e-01  4.557e+00  1.640e+00 -1.041e-02\n",
      "   1.372e-01 -9.260e+00  1.481e-01  1.312e+00  4.290e-01  2.757e-01\n",
      "   7.208e-01  2.383e-01]\n",
      " [ 8.942e-01  1.454e-02  7.991e-02  1.563e+00 -1.828e-01  9.638e-03\n",
      "   9.847e-02 -5.506e+00  7.405e-02  4.290e-01  3.775e-01  6.350e-02\n",
      "   3.382e-01  1.033e-01]\n",
      " [ 3.062e+00  3.837e-02  2.026e-01  1.445e+00  6.174e+00  4.158e-02\n",
      "   1.077e-01 -5.802e+00  6.817e-02  2.757e-01  6.350e-02  8.909e-01\n",
      "   4.683e-01  2.140e-01]\n",
      " [ 1.876e+00  3.553e-01  4.843e-01  4.577e+00  2.892e+00  3.401e-02\n",
      "   1.421e-02 -1.139e+01  2.938e-01  7.208e-01  3.382e-01  4.683e-01\n",
      "   3.766e+00  5.072e-01]\n",
      " [ 9.628e-01  6.939e-02  1.974e-01  1.382e+00  3.037e+00 -2.891e-03\n",
      "   9.046e-02 -4.827e+00  9.831e-02  2.383e-01  1.033e-01  2.140e-01\n",
      "   5.072e-01  2.478e-01]]\n"
     ]
    }
   ],
   "source": [
    "print(covarMatrix(hearts))\n",
    "# need to remove non numerical values."
   ]
  },
  {
   "cell_type": "code",
   "execution_count": 22,
   "metadata": {},
   "outputs": [],
   "source": [
    "# scatter plots."
   ]
  },
  {
   "cell_type": "code",
   "execution_count": 23,
   "metadata": {},
   "outputs": [
    {
     "name": "stdout",
     "output_type": "stream",
     "text": [
      "[[0.854 1.    1.    ... 1.    0.    1.   ]\n",
      " [0.792 0.    0.667 ... 0.    1.    0.   ]\n",
      " [0.583 1.    0.333 ... 0.    1.    1.   ]\n",
      " ...\n",
      " [0.562 0.    0.333 ... 0.    0.    0.   ]\n",
      " [0.583 1.    1.    ... 0.    0.75  0.   ]\n",
      " [0.792 1.    1.    ... 1.    0.    1.   ]]\n"
     ]
    }
   ],
   "source": [
    "\n",
    "# remove non-nurmerical attributes\n",
    "rangedNormalized = rangeNormal(hearts)\n",
    "print(rangedNormalized)\n",
    "\n"
   ]
  },
  {
   "cell_type": "code",
   "execution_count": 24,
   "metadata": {},
   "outputs": [
    {
     "name": "stdout",
     "output_type": "stream",
     "text": [
      "[[ 1.709  0.688  0.869 ...  2.468 -0.874  1.116]\n",
      " [ 1.38  -1.448 -0.183 ... -0.71   1.187 -0.893]\n",
      " [ 0.282  0.688 -1.236 ... -0.71   1.187  1.116]\n",
      " ...\n",
      " [ 0.172 -1.448 -1.236 ... -0.71  -0.874 -0.893]\n",
      " [ 0.282  0.688  0.869 ... -0.71   0.672 -0.893]\n",
      " [ 1.38   0.688  0.869 ...  2.468 -0.874  1.116]]\n"
     ]
    }
   ],
   "source": [
    "print(stdNormal(hearts))"
   ]
  },
  {
   "cell_type": "code",
   "execution_count": 121,
   "metadata": {},
   "outputs": [
    {
     "name": "stdout",
     "output_type": "stream",
     "text": [
      "[array([ 82.975,  -0.403,   0.839,  44.426, 103.605,   0.4  ,   1.165,\n",
      "       -84.875,   0.422,   2.026,   0.894,   3.062,   1.876,   0.963]), array([-0.403,  0.219,  0.015, -0.524, -4.88 ,  0.007,  0.018, -0.825,\n",
      "        0.04 ,  0.052,  0.015,  0.038,  0.355,  0.069]), array([ 0.839,  0.015,  0.903, -0.733,  4.442, -0.033,  0.07 , -6.992,\n",
      "        0.158,  0.182,  0.08 ,  0.203,  0.484,  0.197]), array([ 44.426,  -0.524,  -0.733, 319.037, 159.731,   0.99 ,   2.07 ,\n",
      "       -16.193,   0.696,   4.557,   1.563,   1.445,   4.577,   1.382]), array([ 1.036e+02, -4.880e+00,  4.442e+00,  1.597e+02,  2.671e+03,\n",
      "        4.633e-01,  8.647e+00, -2.244e+01,  1.905e+00,  1.640e+00,\n",
      "       -1.828e-01,  6.174e+00,  2.892e+00,  3.037e+00]), array([ 4.002e-01,  7.022e-03, -3.332e-02,  9.897e-01,  4.633e-01,\n",
      "        1.267e-01,  1.900e-02,  1.855e-01, -6.884e-04, -1.041e-02,\n",
      "        9.638e-03,  4.158e-02,  3.401e-02, -2.891e-03]), array([ 1.165,  0.018,  0.07 ,  2.07 ,  8.647,  0.019,  0.996, -1.725,\n",
      "        0.045,  0.137,  0.098,  0.108,  0.014,  0.09 ]), array([-8.487e+01, -8.254e-01, -6.992e+00, -1.619e+01, -2.244e+01,\n",
      "        1.855e-01, -1.725e+00,  5.367e+02, -4.154e+00, -9.260e+00,\n",
      "       -5.506e+00, -5.802e+00, -1.139e+01, -4.827e+00]), array([ 4.217e-01,  3.969e-02,  1.580e-01,  6.964e-01,  1.905e+00,\n",
      "       -6.884e-04,  4.469e-02, -4.154e+00,  2.218e-01,  1.481e-01,\n",
      "        7.405e-02,  6.817e-02,  2.938e-01,  9.831e-02]), array([ 2.026,  0.052,  0.182,  4.557,  1.64 , -0.01 ,  0.137, -9.26 ,\n",
      "        0.148,  1.312,  0.429,  0.276,  0.721,  0.238]), array([ 0.894,  0.015,  0.08 ,  1.563, -0.183,  0.01 ,  0.098, -5.506,\n",
      "        0.074,  0.429,  0.377,  0.063,  0.338,  0.103]), array([ 3.062,  0.038,  0.203,  1.445,  6.174,  0.042,  0.108, -5.802,\n",
      "        0.068,  0.276,  0.063,  0.891,  0.468,  0.214]), array([  1.876,   0.355,   0.484,   4.577,   2.892,   0.034,   0.014,\n",
      "       -11.392,   0.294,   0.721,   0.338,   0.468,   3.766,   0.507]), array([ 9.628e-01,  6.939e-02,  1.974e-01,  1.382e+00,  3.037e+00,\n",
      "       -2.891e-03,  9.046e-02, -4.827e+00,  9.831e-02,  2.383e-01,\n",
      "        1.033e-01,  2.140e-01,  5.072e-01,  2.478e-01])]\n"
     ]
    }
   ],
   "source": [
    "covarianceList = []\n",
    "negativeVarianceList = []\n",
    "for i in range(hearts.shape[1]):\n",
    "    covarianceList.append(covarMatrix(hearts)[:,i])\n",
    "\n",
    "print(covarianceList)"
   ]
  },
  {
   "cell_type": "code",
   "execution_count": null,
   "metadata": {},
   "outputs": [],
   "source": []
  },
  {
   "cell_type": "code",
   "execution_count": 91,
   "metadata": {},
   "outputs": [
    {
     "name": "stdout",
     "output_type": "stream",
     "text": [
      "Total variance: 3619.190\n"
     ]
    }
   ],
   "source": [
    "totalVar = 0\n",
    "for i in range(hearts.shape[1]):\n",
    "    totalVar += covariance(hearts[:,i], hearts[:,i])\n",
    "print(\"Total variance: %.3f\" % totalVar)"
   ]
  },
  {
   "cell_type": "code",
   "execution_count": 104,
   "metadata": {},
   "outputs": [
    {
     "data": {
      "text/plain": [
       "[0.12666942034971734,\n",
       " 0.21920693928128962,\n",
       " 0.22179540134930487,\n",
       " 0.24783147459727375,\n",
       " 0.37747487264215895,\n",
       " 0.8909403827619419,\n",
       " 0.902671072559548,\n",
       " 0.9957868649318484,\n",
       " 1.3115055762081789,\n",
       " 3.7661572353022055,\n",
       " 82.97509293680288,\n",
       " 319.0370508054523,\n",
       " 536.6504337050803,\n",
       " 2671.467107255958]"
      ]
     },
     "execution_count": 104,
     "metadata": {},
     "output_type": "execute_result"
    }
   ],
   "source": [
    "totalRestrictedVar = []\n",
    "totalRVar = 0\n",
    "for i in range(hearts.shape[1]):\n",
    "    totalRestrictedVar.append(covariance(hearts[:,i], hearts[:,i]))\n",
    "totalRestrictedVar.sort()\n",
    "for i in totalRestrictedVar[-5:]:\n",
    "    totalRVar += i\n",
    "\n",
    "# totalRVar\n",
    "totalRestrictedVar"
   ]
  }
 ],
 "metadata": {
  "kernelspec": {
   "display_name": "Python 3 (ipykernel)",
   "language": "python",
   "name": "python3"
  },
  "language_info": {
   "codemirror_mode": {
    "name": "ipython",
    "version": 3
   },
   "file_extension": ".py",
   "mimetype": "text/x-python",
   "name": "python",
   "nbconvert_exporter": "python",
   "pygments_lexer": "ipython3",
   "version": "3.8.12"
  }
 },
 "nbformat": 4,
 "nbformat_minor": 2
}
