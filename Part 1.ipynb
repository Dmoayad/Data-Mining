{
 "cells": [
  {
   "cell_type": "markdown",
   "id": "24835342",
   "metadata": {},
   "source": [
    "# Part 1"
   ]
  },
  {
   "cell_type": "markdown",
   "id": "bd47dc29",
   "metadata": {},
   "source": [
    "For our Project 1, we choose the Statlog data set, which is a database for heart disease. \n",
    "This dataset has been cited in several research papers in the datascience field including:  Diversity in Neural Network Ensembles (Gavin Brown. The University of Birmingham. 2004.),\n",
    "Overcoming the Myopia of Inductive Learning Algorithms with RELIEFF (Igor Kononenko and Edvard Simec and Marko Robnik-Sikonja), Unanimous Voting using Support Vector Machines (Elena Smirnova and Ida G. Sprinkhuizen-Kuyper and I. Nalbantis and b. ERIM and Universiteit Rotterdam, IKAT, Universiteit Maastricht),\n",
    "Dissertation Towards Understanding Stacking Studies of a General Ensemble Learning Scheme ausgefuhrt zum Zwecke der Erlangung des akademischen Grades eines Doktors der technischen Naturwissenschaften. \n",
    " \n",
    "The dataset was uploaded by the University of California, Irvine, and is available at the UCI machine learning archive\n",
    "on their website for the Center for Machine Learning and Intelligent Systems at the following URL: https://archive.ics.uci.edu/ml/machine-learning-databases/statlog/heart/\n",
    "\n",
    "The Statlog dataset has 270 instances, with no missing values and 13 different attributes. Due to the fact that there are no \n",
    "missing values, there is no need for a plot to summarize the proportion of missing data as this is non-applicable for all 13 attributes. \n",
    "\n",
    "The 13 attributes include descriptive variables such as age, sex, resting blood pressure, cholestora\n",
    "    \n",
    "This dataset is fascinating to work with because of the potential for machine learning and neural networks to be applied in \n",
    "medical diagnostic work. \n",
    "My father had some heart issues recently, that could have been avoided/treated appropriately if the data \n",
    "had been interpreted by a machine, and not a doctor who was later repeatedly sued succesfully for negligent practice. \n",
    "My girlfriend, who is a nurse, reports routinely on poor diagnostic work by colleagues (don't tell anybody).\n",
    "A large proportion of her work day is \n",
    "spent collecting and documenting data, and this is where the real challenge lies. How do we get the data we need, \n",
    "to establish better preventative care, and better diagnostics in medicine with the help of machine learning. \n",
    "I believe this question to be a fundamental one in data mining, where we not only work with statistics to evaluate data, \n",
    "But as good staticians, have to also determine which is useful, how to gather it, and how to clean it. "
   ]
  }
 ],
 "metadata": {
  "kernelspec": {
   "display_name": "Python 3 (ipykernel)",
   "language": "python",
   "name": "python3"
  },
  "language_info": {
   "codemirror_mode": {
    "name": "ipython",
    "version": 3
   },
   "file_extension": ".py",
   "mimetype": "text/x-python",
   "name": "python",
   "nbconvert_exporter": "python",
   "pygments_lexer": "ipython3",
   "version": "3.9.7"
  }
 },
 "nbformat": 4,
 "nbformat_minor": 5
}
