{
 "cells": [
  {
   "cell_type": "markdown",
   "metadata": {},
   "source": [
    "## Names\n",
    "Philip Gehde, Moiyad Lastname."
   ]
  },
  {
   "cell_type": "markdown",
   "metadata": {},
   "source": [
    "## Part 1: Write the Introduction"
   ]
  },
  {
   "cell_type": "markdown",
   "metadata": {},
   "source": [
    "For our Project 1, we choose the Statlog data set, which is a database for heart disease. \n",
    "This dataset has been cited in several research papers in the datascience field including:  \n",
    "\n",
    "Diversity in Neural Network Ensembles (Gavin Brown. The University of Birmingham. 2004.),\n",
    "Overcoming the Myopia of Inductive Learning Algorithms with RELIEFF (Igor Kononenko and Edvard Simec and Marko Robnik-Sikonja), \n",
    "Unanimous Voting using Support Vector Machines (Elena Smirnova and Ida G. Sprinkhuizen-Kuyper and I. Nalbantis and b. ERIM and Universiteit Rotterdam, IKAT, Universiteit Maastricht),\n",
    "Dissertation Towards Understanding Stacking Studies of a General Ensemble Learning Scheme ausgefuhrt zum Zwecke der Erlangung des akademischen Grades eines Doktors der technischen Naturwissenschaften.\n",
    " \n",
    "The dataset was uploaded by the University of California, Irvine, and is available at the UCI machine learning archive\n",
    "on their website for the Center for Machine Learning and Intelligent Systems at the following URL:  \n",
    "\n",
    "The Statlog dataset has 270 instances, with no missing values and 13 different attributes. Due to the fact that there are no missing values, there is no need for a plot to summarize the proportion of missing data as this is non-applicable for all 13 attributes. \n",
    "\n",
    "The 13 attributes include descriptive variables such as age, sex, resting blood pressure, cholestoral\n",
    "    \n",
    "This dataset is fascinating to work with because of the potential for machine learning and neural networks to be applied in \n",
    "medical diagnostic work. \n",
    "My father had some heart issues recently, that could have been avoided/treated appropriately if the data \n",
    "had been interpreted by a machine, and not a doctor who was later repeatedly sued succesfully for negligent practice. \n",
    "My girlfriend, who is a nurse, reports routinely on poor diagnostic work by colleagues (don't tell anybody).\n",
    "A large proportion of her work day is \n",
    "spent collecting and documenting data, and this is where the real challenge lies. How do we get the data we need, \n",
    "to establish better preventative care, and better diagnostics in medicine with the help of machine learning. \n",
    "I believe this question to be a fundamental one in data mining, where we not only work with statistics to evaluate data, \n",
    "But as good staticians, have to also determine which is useful, how to gather it, and how to clean it. "
   ]
  },
  {
   "cell_type": "markdown",
   "metadata": {},
   "source": [
    "## Part 2: Write Python code for data analysis"
   ]
  },
  {
   "cell_type": "code",
   "execution_count": 1,
   "metadata": {},
   "outputs": [],
   "source": [
    "import numpy as np\n",
    "import math\n",
    "import matplotlib.pyplot as plt\n",
    "np.set_printoptions(precision=3)\n",
    "\n",
    "hearts = np.loadtxt(\"./data/heart.csv\", delimiter=\",\")\n",
    "\n",
    "# hearts"
   ]
  },
  {
   "cell_type": "code",
   "execution_count": 2,
   "metadata": {},
   "outputs": [],
   "source": [
    "# 2-D Numerical Data Set\n",
    "twoDNum = np.array([[1, 2, 3, 4, 5, 6],\n",
    "                    [7, 8, 9, 10, 11, 12],\n",
    "                    [13, 14, 15, 16, 17, 18],\n",
    "                    [19, 20, 21, 22, 23, 24],\n",
    "                    [25, 26, 27, 28, 29, 30],\n",
    "                    [31, 32, 33, 34, 35, 36],\n",
    "                    [37, 38, 39, 40, 41, 42],\n",
    "                    [43, 44, 45, 46, 47, 48],\n",
    "                    [49, 50, 51, 52, 53, 54]])"
   ]
  },
  {
   "cell_type": "code",
   "execution_count": 3,
   "metadata": {},
   "outputs": [],
   "source": [
    "twoDNum2 = np.array([[1, 2, 3],[4, 5, 6],[7, 8, 9],[10, 11, 12]])"
   ]
  },
  {
   "cell_type": "code",
   "execution_count": 4,
   "metadata": {},
   "outputs": [],
   "source": [
    "# 2-D Categorical Data Set of Various Types\n",
    "twoDCat = np.array([['Yes', 'Green', 'Shirt', 'A'],['No', 'Blue', 'Pants', 'B'],['Yes', 'Red', 'Blouse', 'C'],['No', 'Yellow', 'Shirt', 'D']])\n"
   ]
  },
  {
   "cell_type": "code",
   "execution_count": 5,
   "metadata": {},
   "outputs": [],
   "source": [
    "# 1-D Vectors\n",
    "vector1 = np.array([1, 2, 3, 4, 5])\n",
    "vector2 = np.array([1, 2, 3, 4, 5])\n"
   ]
  },
  {
   "cell_type": "markdown",
   "metadata": {},
   "source": [
    "#### 2a) (5 points) A function that will compute the mean of a numerical, multidimensional data set input as a 2-dimensional numpy array"
   ]
  },
  {
   "cell_type": "code",
   "execution_count": 6,
   "metadata": {},
   "outputs": [],
   "source": [
    "# Function for the multivariate mean of a numerical data set\n",
    "def twoDimMean(inputArr):\n",
    "    total = np.zeros([len(inputArr[0])])\n",
    "    num_elements = len(inputArr)\n",
    "\n",
    "    for i in range(len(inputArr)):\n",
    "        for j in range(len(inputArr[0])):\n",
    "            xi = inputArr[:, j]\n",
    "            total[j] = total[j] + xi[i]\n",
    "\n",
    "    mean = total/num_elements\n",
    "    return mean\n"
   ]
  },
  {
   "cell_type": "code",
   "execution_count": 7,
   "metadata": {},
   "outputs": [
    {
     "name": "stdout",
     "output_type": "stream",
     "text": [
      "\n",
      "2-Dimensional Multivariate Mean: [25. 26. 27. 28. 29. 30.]\n"
     ]
    }
   ],
   "source": [
    "print(\"\\n2-Dimensional Multivariate Mean:\", twoDimMean(twoDNum))\n",
    "# test : fixed. now correct\n",
    "# print(\"mean: \", np.mean(twoDNum, 0))"
   ]
  },
  {
   "cell_type": "markdown",
   "metadata": {},
   "source": [
    "#### 2b) (5 points) A function that will compute the estimated covariance between two attributes that are input as one-dimensional numpy vectors"
   ]
  },
  {
   "cell_type": "code",
   "execution_count": 8,
   "metadata": {},
   "outputs": [],
   "source": [
    "# Function for sample covariance between two attributes\n",
    "def covariance(a, b):\n",
    "    x, y, total = 0, 0, 0\n",
    "    n = len(a)\n",
    "    # attr. Sum \n",
    "    for i in range(n):\n",
    "        x = x + a[i]\n",
    "        y = y + b[i]\n",
    "    # attr. Mean\n",
    "    xMean = x / n\n",
    "    yMean = y / n\n",
    "\n",
    "    # Covariance sum\n",
    "    for i in range(n):\n",
    "        total = total + ((a[i]) - xMean) * ((b[i]) - yMean)\n",
    "    covariance = (1 / (n - 1)) * total\n",
    "    return covariance\n"
   ]
  },
  {
   "cell_type": "code",
   "execution_count": 9,
   "metadata": {},
   "outputs": [
    {
     "name": "stdout",
     "output_type": "stream",
     "text": [
      "\n",
      "Covariance:  2.5\n"
     ]
    }
   ],
   "source": [
    "print(\"\\nCovariance: \", covariance(vector1, vector2))\n",
    "# test : correct.\n",
    "# print(\"cov: \", np.cov(vector1, vector2)[0][0])"
   ]
  },
  {
   "cell_type": "markdown",
   "metadata": {},
   "source": [
    "#### 2c) (5 points) A function that will compute the correlation between two attributes that are input as two numpy vectors."
   ]
  },
  {
   "cell_type": "code",
   "execution_count": 10,
   "metadata": {},
   "outputs": [],
   "source": [
    "# Function for correlation between two attributes\n",
    "def correlation(p1, p2):\n",
    "    x, y, axb, a2, b2 = 0, 0, 0, 0, 0\n",
    "    n = len(p1)\n",
    "\n",
    "    for i in range(n):\n",
    "        x = x + p1[i]\n",
    "        y = y + p2[i]\n",
    "\n",
    "    x_mean = x / n\n",
    "    y_mean = y / n\n",
    "\n",
    "    for i in range(n):\n",
    "        a = (p1[i] - x_mean)\n",
    "        b = (p2[i] - y_mean)\n",
    "        axb = axb + (a * b)\n",
    "        a2 = a2 + (a * a)\n",
    "        b2 = b2 + (b * b)\n",
    "    \n",
    "    correlation = axb / (math.sqrt(a2 * b2))\n",
    "    \n",
    "    return correlation\n"
   ]
  },
  {
   "cell_type": "code",
   "execution_count": 11,
   "metadata": {},
   "outputs": [
    {
     "name": "stdout",
     "output_type": "stream",
     "text": [
      "\n",
      "Correlation: 1.000000\n"
     ]
    }
   ],
   "source": [
    "print(\"\\nCorrelation: %f\" % correlation(vector1, vector2))\n",
    "\n",
    "# test : correct.\n",
    "# print(\"corr %f\" % np.corrcoef(vector1,vector2)[0][0])"
   ]
  },
  {
   "cell_type": "markdown",
   "metadata": {},
   "source": [
    "#### 2d) A function that will normalize the attributes in a two-dimensional numpy array using range normalization."
   ]
  },
  {
   "cell_type": "code",
   "execution_count": 12,
   "metadata": {},
   "outputs": [],
   "source": [
    "\n",
    "# Function for min by column\n",
    "# ref: https://www.geeksforgeeks.org/program-find-minimum-maximum-element-array/\n",
    "def getMin(inputArr):\n",
    "    value = inputArr[0]\n",
    "    n = len(inputArr)\n",
    "    for i in range(1, n):\n",
    "        value = min(value, inputArr[i])\n",
    "    return value\n",
    "\n",
    "\n",
    "# Function for max by column\n",
    "# ref: https://www.geeksforgeeks.org/program-find-minimum-maximum-element-array/\n",
    "def getMax(inputArr):\n",
    "    value = inputArr[0]\n",
    "    n = len(inputArr)\n",
    "    for i in range(1, n):\n",
    "        value = max(value, inputArr[i])\n",
    "    return value\n",
    "\n",
    "def rangeNormal(inputArr):\n",
    "    rowLen = len(inputArr)\n",
    "    colLen = len(inputArr[0])\n",
    "    rngNormal = np.empty([rowLen, colLen])\n",
    "    \n",
    "    for row in range(rowLen):\n",
    "        for col in range(colLen):\n",
    "            max_min = getMax(inputArr[:, col]) - getMin(inputArr[:, col])\n",
    "            x_sub_min = (inputArr[row][col] - getMin(inputArr[:, col]))\n",
    "            rngNormal[row][col] = x_sub_min / max_min\n",
    "    return rngNormal\n"
   ]
  },
  {
   "cell_type": "code",
   "execution_count": 13,
   "metadata": {},
   "outputs": [
    {
     "name": "stdout",
     "output_type": "stream",
     "text": [
      "\n",
      "Range Normalized Data:\n",
      " [[0.    0.    0.    0.    0.    0.   ]\n",
      " [0.125 0.125 0.125 0.125 0.125 0.125]\n",
      " [0.25  0.25  0.25  0.25  0.25  0.25 ]\n",
      " [0.375 0.375 0.375 0.375 0.375 0.375]\n",
      " [0.5   0.5   0.5   0.5   0.5   0.5  ]\n",
      " [0.625 0.625 0.625 0.625 0.625 0.625]\n",
      " [0.75  0.75  0.75  0.75  0.75  0.75 ]\n",
      " [0.875 0.875 0.875 0.875 0.875 0.875]\n",
      " [1.    1.    1.    1.    1.    1.   ]]\n",
      "range normalized 2:  [[0.    0.    0.   ]\n",
      " [0.333 0.333 0.333]\n",
      " [0.667 0.667 0.667]\n",
      " [1.    1.    1.   ]]\n"
     ]
    }
   ],
   "source": [
    "print(\"\\nRange Normalized Data:\\n\", rangeNormal(twoDNum))\n",
    "print(\"range normalized 2: \", rangeNormal(twoDNum2))"
   ]
  },
  {
   "cell_type": "markdown",
   "metadata": {},
   "source": [
    "#### 2e) (5 points) A function that will normalize the attributes in a two-dimensional numpy array using standard normalization"
   ]
  },
  {
   "cell_type": "code",
   "execution_count": 14,
   "metadata": {},
   "outputs": [],
   "source": [
    "# Helper function \n",
    "def oneDimMean(inputArr):\n",
    "    total = 0\n",
    "    numElements = 0\n",
    "\n",
    "    for i in range(len(inputArr)):\n",
    "        total = total + inputArr[i]\n",
    "        numElements = numElements + 1\n",
    "    mean = total / numElements\n",
    "    return mean\n",
    "\n",
    "\n",
    "# Helper function for SD\n",
    "def stdDevHelper(inputArr):\n",
    "    total = 0\n",
    "    numElements = 0\n",
    "    mean = oneDimMean(inputArr)\n",
    "\n",
    "    for i in range(len(inputArr)):\n",
    "        total = total + (inputArr[i] - mean) ** 2\n",
    "        numElements = numElements + 1\n",
    "\n",
    "    std_dev = math.sqrt(total / (numElements - 1))\n",
    "    return std_dev\n",
    "\n",
    "\n",
    "def listUnique(inputArr):\n",
    "    unique = []\n",
    "    for x in inputArr:\n",
    "        if x not in unique:\n",
    "            unique.append(x)\n",
    "    return unique\n",
    "\n",
    "\n",
    "def stdNormal(inputArr):\n",
    "    rowLen = len(inputArr)\n",
    "    colLen = len(inputArr[0])\n",
    "\n",
    "    stdNormal = np.empty([rowLen, colLen])\n",
    "    for i in range(rowLen):\n",
    "        for j in range(colLen):\n",
    "            xi = inputArr[i][j]\n",
    "            colMean = oneDimMean(inputArr[:, j])\n",
    "            stdDev = stdDevHelper(inputArr[:, j])\n",
    "            stdNormal[i][j] = (xi - colMean) / stdDev\n",
    "    return stdNormal"
   ]
  },
  {
   "cell_type": "code",
   "execution_count": 15,
   "metadata": {},
   "outputs": [
    {
     "data": {
      "text/plain": [
       "array([[0., 0., 0., 1.],\n",
       "       [1., 1., 1., 0.]])"
      ]
     },
     "execution_count": 15,
     "metadata": {},
     "output_type": "execute_result"
    }
   ],
   "source": [
    "# print(\"\\nStandard Normalized Data:\\n\", stdNormal(twoDNum))\n",
    "\n",
    "# test: correct!\n",
    "# np.set_printoptions(precision=3)\n",
    "# print(stdNormal(oneHotMatrix))\n",
    "\n",
    "rangeNormal(np.array([[1, 2, 3, 4], [3, 5, 8, 3]]))"
   ]
  },
  {
   "cell_type": "markdown",
   "metadata": {},
   "source": [
    "#### 2f) (5 points) A function that will compute the covariance matrix of a data set."
   ]
  },
  {
   "cell_type": "code",
   "execution_count": 16,
   "metadata": {},
   "outputs": [],
   "source": [
    "def covarMatrix(inputArr):\n",
    "    # dim = np.array = inputArr.shape\n",
    "    rowLen = inputArr.shape[1]\n",
    "    \n",
    "    covarMatrix = np.empty([rowLen, rowLen])\n",
    "    for i in range(rowLen):\n",
    "        for j in range(rowLen):\n",
    "            xi = inputArr[:, i]\n",
    "            xj = inputArr[:, j]\n",
    "            covarMatrix[i,j] = covariance(xi, xj)\n",
    "    return covarMatrix\n",
    "\n",
    "# def totalVariance(inputArr):\n",
    "#     nrow = len(inputArr[0])\n"
   ]
  },
  {
   "cell_type": "code",
   "execution_count": 17,
   "metadata": {},
   "outputs": [],
   "source": [
    "# print(\"\\nCovariance Matrix:\\n\", covarMatrix(twoDNum))\n",
    "covarHearts = covarMatrix(hearts)\n",
    "# totalVar = 0\n",
    "# for i in range(hearts.shape[1]):\n",
    "#     totalVar += covariance(hearts[:,i], hearts[:,i])\n",
    "\n",
    "# totalVar"
   ]
  },
  {
   "cell_type": "markdown",
   "metadata": {},
   "source": [
    "#### 2g) (5 points) A function that will label-encode a two-dimensional categorical data array that is passed in as input."
   ]
  },
  {
   "cell_type": "code",
   "execution_count": 18,
   "metadata": {},
   "outputs": [],
   "source": [
    "def labelEncode(inputArr):\n",
    "    rowLen = len(inputArr)\n",
    "    colLen = len(inputArr[0])\n",
    "\n",
    "    lblEncoded = np.empty([rowLen, colLen])\n",
    "    for i in range(rowLen):\n",
    "        for j in range(colLen):\n",
    "            xi = inputArr[:, j]\n",
    "            xu = listUnique(xi)\n",
    "            lblEncoded[i][j] = xu.index(xi[i]) + 1\n",
    "\n",
    "    return lblEncoded\n"
   ]
  },
  {
   "cell_type": "code",
   "execution_count": 19,
   "metadata": {},
   "outputs": [
    {
     "name": "stdout",
     "output_type": "stream",
     "text": [
      "\n",
      "Label Encoded Matrix:\n",
      " [[1. 1. 1. 1.]\n",
      " [2. 2. 2. 2.]\n",
      " [1. 3. 3. 3.]\n",
      " [2. 4. 1. 4.]]\n"
     ]
    }
   ],
   "source": [
    "print(\"\\nLabel Encoded Matrix:\\n\", labelEncode(twoDCat))"
   ]
  },
  {
   "cell_type": "markdown",
   "metadata": {},
   "source": [
    "## Part 3"
   ]
  },
  {
   "cell_type": "markdown",
   "metadata": {},
   "source": [
    "### Convert all categorical attributes using label encoding or one-hot-encoding\n",
    "a) All categorical variables are already label encoded.\n",
    "### If your data has missing values, fill in those values with the attribute mean.\n",
    "b) There are no missing values.\n",
    "\n",
    "c) mean of the data"
   ]
  },
  {
   "cell_type": "code",
   "execution_count": 20,
   "metadata": {
    "scrolled": true
   },
   "outputs": [
    {
     "name": "stdout",
     "output_type": "stream",
     "text": [
      "[5.443e+01 6.778e-01 3.174e+00 1.313e+02 2.497e+02 1.481e-01 1.022e+00\n",
      " 1.497e+02 3.296e-01 1.050e+00 1.585e+00 6.704e-01 4.696e+00 1.444e+00]\n"
     ]
    }
   ],
   "source": [
    "print(twoDimMean(hearts))\n",
    "# hearts.mean(0)\n",
    "# need to remove non numerical values."
   ]
  },
  {
   "cell_type": "code",
   "execution_count": 21,
   "metadata": {},
   "outputs": [
    {
     "name": "stdout",
     "output_type": "stream",
     "text": [
      "[[ 8.298e+01 -4.026e-01  8.388e-01  4.443e+01  1.036e+02  4.002e-01\n",
      "   1.165e+00 -8.487e+01  4.217e-01  2.026e+00  8.942e-01  3.062e+00\n",
      "   1.876e+00  9.628e-01]\n",
      " [-4.026e-01  2.192e-01  1.541e-02 -5.243e-01 -4.880e+00  7.022e-03\n",
      "   1.834e-02 -8.254e-01  3.969e-02  5.223e-02  1.454e-02  3.837e-02\n",
      "   3.553e-01  6.939e-02]\n",
      " [ 8.388e-01  1.541e-02  9.027e-01 -7.330e-01  4.442e+00 -3.332e-02\n",
      "   7.047e-02 -6.992e+00  1.580e-01  1.820e-01  7.991e-02  2.026e-01\n",
      "   4.843e-01  1.974e-01]\n",
      " [ 4.443e+01 -5.243e-01 -7.330e-01  3.190e+02  1.597e+02  9.897e-01\n",
      "   2.070e+00 -1.619e+01  6.964e-01  4.557e+00  1.563e+00  1.445e+00\n",
      "   4.577e+00  1.382e+00]\n",
      " [ 1.036e+02 -4.880e+00  4.442e+00  1.597e+02  2.671e+03  4.633e-01\n",
      "   8.647e+00 -2.244e+01  1.905e+00  1.640e+00 -1.828e-01  6.174e+00\n",
      "   2.892e+00  3.037e+00]\n",
      " [ 4.002e-01  7.022e-03 -3.332e-02  9.897e-01  4.633e-01  1.267e-01\n",
      "   1.900e-02  1.855e-01 -6.884e-04 -1.041e-02  9.638e-03  4.158e-02\n",
      "   3.401e-02 -2.891e-03]\n",
      " [ 1.165e+00  1.834e-02  7.047e-02  2.070e+00  8.647e+00  1.900e-02\n",
      "   9.958e-01 -1.725e+00  4.469e-02  1.372e-01  9.847e-02  1.077e-01\n",
      "   1.421e-02  9.046e-02]\n",
      " [-8.487e+01 -8.254e-01 -6.992e+00 -1.619e+01 -2.244e+01  1.855e-01\n",
      "  -1.725e+00  5.367e+02 -4.154e+00 -9.260e+00 -5.506e+00 -5.802e+00\n",
      "  -1.139e+01 -4.827e+00]\n",
      " [ 4.217e-01  3.969e-02  1.580e-01  6.964e-01  1.905e+00 -6.884e-04\n",
      "   4.469e-02 -4.154e+00  2.218e-01  1.481e-01  7.405e-02  6.817e-02\n",
      "   2.938e-01  9.831e-02]\n",
      " [ 2.026e+00  5.223e-02  1.820e-01  4.557e+00  1.640e+00 -1.041e-02\n",
      "   1.372e-01 -9.260e+00  1.481e-01  1.312e+00  4.290e-01  2.757e-01\n",
      "   7.208e-01  2.383e-01]\n",
      " [ 8.942e-01  1.454e-02  7.991e-02  1.563e+00 -1.828e-01  9.638e-03\n",
      "   9.847e-02 -5.506e+00  7.405e-02  4.290e-01  3.775e-01  6.350e-02\n",
      "   3.382e-01  1.033e-01]\n",
      " [ 3.062e+00  3.837e-02  2.026e-01  1.445e+00  6.174e+00  4.158e-02\n",
      "   1.077e-01 -5.802e+00  6.817e-02  2.757e-01  6.350e-02  8.909e-01\n",
      "   4.683e-01  2.140e-01]\n",
      " [ 1.876e+00  3.553e-01  4.843e-01  4.577e+00  2.892e+00  3.401e-02\n",
      "   1.421e-02 -1.139e+01  2.938e-01  7.208e-01  3.382e-01  4.683e-01\n",
      "   3.766e+00  5.072e-01]\n",
      " [ 9.628e-01  6.939e-02  1.974e-01  1.382e+00  3.037e+00 -2.891e-03\n",
      "   9.046e-02 -4.827e+00  9.831e-02  2.383e-01  1.033e-01  2.140e-01\n",
      "   5.072e-01  2.478e-01]]\n"
     ]
    }
   ],
   "source": [
    "print(covarMatrix(hearts))\n",
    "# need to remove non numerical values."
   ]
  },
  {
   "cell_type": "code",
   "execution_count": 126,
   "metadata": {},
   "outputs": [
    {
     "data": {
      "text/plain": [
       "Text(0, 0.5, 'serum cholestoral in mg/dl  ')"
      ]
     },
     "execution_count": 126,
     "metadata": {},
     "output_type": "execute_result"
    },
    {
     "data": {
      "image/png": "[encoded data removed]",
      "text/plain": [
       "<Figure size 432x288 with 1 Axes>"
      ]
     },
     "metadata": {
      "needs_background": "light"
     },
     "output_type": "display_data"
    }
   ],
   "source": [
    "# 5 scatter plots and quick analysis\n",
    "\n",
    "#plot 1\n",
    "\n",
    "plt.scatter(hearts[:,0], hearts[:,4])\n",
    "plt.title(\"Serum Cholestrol by Age\")\n",
    "plt.xlabel(\"Age\")\n",
    "plt.ylabel(\"serum cholestoral in mg/dl  \")\n"
   ]
  },
  {
   "cell_type": "code",
   "execution_count": 106,
   "metadata": {},
   "outputs": [
    {
     "data": {
      "text/plain": [
       "Text(0, 0.5, 'Maximum heart rate achieved')"
      ]
     },
     "execution_count": 106,
     "metadata": {},
     "output_type": "execute_result"
    },
    {
     "data": {
      "image/png": "[encoded data removed]",
      "text/plain": [
       "<Figure size 432x288 with 1 Axes>"
      ]
     },
     "metadata": {
      "needs_background": "light"
     },
     "output_type": "display_data"
    }
   ],
   "source": [
    "#plot 2\n",
    "\n",
    "plt.scatter(hearts[:,0], hearts[:,7])\n",
    "plt.title(\"Maximum heart rate achieved by Age\")\n",
    "plt.xlabel(\"Age\")\n",
    "plt.ylabel(\"Maximum heart rate achieved\")"
   ]
  },
  {
   "cell_type": "code",
   "execution_count": 119,
   "metadata": {},
   "outputs": [
    {
     "data": {
      "text/plain": [
       "Text(0, 0.5, 'ST depression induced by exercise relative to rest')"
      ]
     },
     "execution_count": 119,
     "metadata": {},
     "output_type": "execute_result"
    },
    {
     "data": {
      "image/png": "[encoded data removed]",
      "text/plain": [
       "<Figure size 432x288 with 1 Axes>"
      ]
     },
     "metadata": {
      "needs_background": "light"
     },
     "output_type": "display_data"
    }
   ],
   "source": [
    "#plot 3\n",
    "\n",
    "plt.scatter(hearts[:,0], hearts[:,9])\n",
    "plt.title(\"OldPeak by Age\")\n",
    "plt.xlabel(\"Age\")\n",
    "plt.ylabel(\"ST depression induced by exercise relative to rest\")"
   ]
  },
  {
   "cell_type": "code",
   "execution_count": 128,
   "metadata": {},
   "outputs": [
    {
     "data": {
      "text/plain": [
       "Text(0, 0.5, 'Maximum heart rate achieved')"
      ]
     },
     "execution_count": 128,
     "metadata": {},
     "output_type": "execute_result"
    },
    {
     "data": {
      "image/png": "[encoded data removed]",
      "text/plain": [
       "<Figure size 432x288 with 1 Axes>"
      ]
     },
     "metadata": {
      "needs_background": "light"
     },
     "output_type": "display_data"
    }
   ],
   "source": [
    "#plot 4\n",
    "\n",
    "plt.scatter(hearts[:,4], hearts[:,7])\n",
    "plt.title(\"Maximum heart rate achieved by Serum of cholestrol\")\n",
    "plt.xlabel(\"Serum of cholestrol\")\n",
    "plt.ylabel(\"Maximum heart rate achieved\")"
   ]
  },
  {
   "cell_type": "code",
   "execution_count": 131,
   "metadata": {},
   "outputs": [
    {
     "data": {
      "text/plain": [
       "Text(0, 0.5, 'ST depression induced by exercise relative to rest')"
      ]
     },
     "execution_count": 131,
     "metadata": {},
     "output_type": "execute_result"
    },
    {
     "data": {
      "image/png": "[encoded data removed]",
      "text/plain": [
       "<Figure size 432x288 with 1 Axes>"
      ]
     },
     "metadata": {
      "needs_background": "light"
     },
     "output_type": "display_data"
    }
   ],
   "source": [
    "#plot 5\n",
    "\n",
    "plt.scatter(hearts[:,7], hearts[:,9])\n",
    "plt.title(\"Maximum heart rate achieved by Oldpeak\")\n",
    "plt.xlabel(\"Maximum heart rate\")\n",
    "plt.ylabel(\"ST depression induced by exercise relative to rest\")"
   ]
  },
  {
   "cell_type": "code",
   "execution_count": 86,
   "metadata": {},
   "outputs": [
    {
     "name": "stdout",
     "output_type": "stream",
     "text": [
      "Covariance : 0.2489467162329621 6   6\n"
     ]
    },
    {
     "data": {
      "text/plain": [
       "Text(0, 0.5, 'Resting electrocadriographic results')"
      ]
     },
     "execution_count": 86,
     "metadata": {},
     "output_type": "execute_result"
    },
    {
     "data": {
      "image/png": "[encoded data removed]",
      "text/plain": [
       "<Figure size 432x288 with 1 Axes>"
      ]
     },
     "metadata": {
      "needs_background": "light"
     },
     "output_type": "display_data"
    }
   ],
   "source": [
    "\n",
    "# remove non-nurmerical attributes\n",
    "rangedNormalized = rangeNormal(hearts)\n",
    "# print(rangedNormalized)\n",
    "np.set_printoptions(precision=3)\n",
    "np.set_printoptions(suppress=True)\n",
    "# print(covarMatrix(rangedNormalized))\n",
    "covar = 0\n",
    "cov_i = 0\n",
    "cov_j = 0\n",
    "for i in range(rangedNormalized.shape[1]):\n",
    "    for j in range(rangedNormalized.shape[1]):\n",
    "        if(covariance(rangedNormalized[:,i],rangedNormalized[:,j]) > covar):\n",
    "            covar = covariance(rangedNormalized[:,i],rangedNormalized[:,j])\n",
    "            cov_i = i\n",
    "            cov_j = j\n",
    "\n",
    "print(\"Covariance :\", covar , cov_i,\" \", cov_j)\n",
    "\n",
    "plt.scatter(rangedNormalized[:,6], rangedNormalized[:,6])\n",
    "plt.title(\"Greatest Range Normalization\")\n",
    "plt.xlabel(\"Resting electrocadriographic results\")\n",
    "plt.ylabel(\"Resting electrocadriographic results\")\n"
   ]
  },
  {
   "cell_type": "code",
   "execution_count": 92,
   "metadata": {},
   "outputs": [
    {
     "name": "stdout",
     "output_type": "stream",
     "text": [
      "Covariance : 1.000000000000005 11   11\n"
     ]
    },
    {
     "data": {
      "text/plain": [
       "Text(0, 0.5, 'Number of major vessels')"
      ]
     },
     "execution_count": 92,
     "metadata": {},
     "output_type": "execute_result"
    },
    {
     "data": {
      "image/png": "[encoded data removed]",
      "text/plain": [
       "<Figure size 432x288 with 1 Axes>"
      ]
     },
     "metadata": {
      "needs_background": "light"
     },
     "output_type": "display_data"
    }
   ],
   "source": [
    "zScoreData = stdNormal(hearts)\n",
    "\n",
    "covar = 0\n",
    "cov_i = 0\n",
    "cov_j = 0\n",
    "for i in range(zScoreData.shape[1]):\n",
    "    for j in range(zScoreData.shape[1]):\n",
    "        if(covariance(zScoreData[:,i],zScoreData[:,j]) > covar):\n",
    "            covar = covariance(zScoreData[:,i],zScoreData[:,j])\n",
    "            cov_i = i\n",
    "            cov_j = j\n",
    "\n",
    "print(\"Covariance :\", covar , cov_i,\" \", cov_j)\n",
    "\n",
    "plt.scatter(zScoreData[:,11], zScoreData[:,11])\n",
    "plt.title(\"Least Z Score Normalization\")\n",
    "plt.xlabel(\"Number of major vessels\")\n",
    "plt.ylabel(\"Number of major vessels\")"
   ]
  },
  {
   "cell_type": "code",
   "execution_count": 93,
   "metadata": {},
   "outputs": [
    {
     "name": "stdout",
     "output_type": "stream",
     "text": [
      "Covariance : -0.4185139653265938 7   13\n"
     ]
    },
    {
     "data": {
      "text/plain": [
       "Text(0, 0.5, 'Absence or presence of heart disease')"
      ]
     },
     "execution_count": 93,
     "metadata": {},
     "output_type": "execute_result"
    },
    {
     "data": {
      "image/png": "[encoded data removed]",
      "text/plain": [
       "<Figure size 432x288 with 1 Axes>"
      ]
     },
     "metadata": {
      "needs_background": "light"
     },
     "output_type": "display_data"
    }
   ],
   "source": [
    "zScoreData = stdNormal(hearts)\n",
    "\n",
    "covar = 0\n",
    "cov_i = 0\n",
    "cov_j = 0\n",
    "for i in range(zScoreData.shape[1]):\n",
    "    for j in range(zScoreData.shape[1]):\n",
    "        if(covariance(zScoreData[:,i],zScoreData[:,j]) < covar):\n",
    "            covar = covariance(zScoreData[:,i],zScoreData[:,j])\n",
    "            cov_i = i\n",
    "            cov_j = j\n",
    "\n",
    "print(\"Covariance :\", covar , cov_i,\" \", cov_j)\n",
    "\n",
    "plt.scatter(zScoreData[:,7], zScoreData[:,13])\n",
    "plt.title(\"Greatest Z Score Normalization\")\n",
    "plt.xlabel(\"Maximum Heart Rate Achieved\")\n",
    "plt.ylabel(\"Absence or presence of heart disease\")"
   ]
  },
  {
   "cell_type": "code",
   "execution_count": 25,
   "metadata": {},
   "outputs": [
    {
     "name": "stdout",
     "output_type": "stream",
     "text": [
      "Number of correlation pairs larger than 0.5:  3\n"
     ]
    }
   ],
   "source": [
    "correlationList = []\n",
    "totalRVar = 0\n",
    "for i in range(hearts.shape[1]):\n",
    "    for j in range(hearts.shape[1]):\n",
    "        correlationList.append(correlation(hearts[:,i], hearts[:,j]))\n",
    "correlationList.sort()\n",
    "corrSet = set(correlationList)\n",
    "\n",
    "count = 0\n",
    "for i in corrSet:\n",
    "    if(i >= 0.5):\n",
    "        count += 1\n",
    "print(\"Number of correlation pairs larger than 0.5: \", count)"
   ]
  },
  {
   "cell_type": "code",
   "execution_count": 35,
   "metadata": {},
   "outputs": [
    {
     "name": "stdout",
     "output_type": "stream",
     "text": [
      "Number of pairs that have negative estimated covariance:  21\n"
     ]
    }
   ],
   "source": [
    "totalVar = []\n",
    "totalRVar = 0\n",
    "for i in range(hearts.shape[1]):\n",
    "    for j in range(hearts.shape[1]):\n",
    "        totalVar.append(covariance(hearts[:,i], hearts[:,j]))\n",
    "totalVar.sort()\n",
    "varSet = set(totalVar)\n",
    "count = 0\n",
    "for i in varSet:\n",
    "    if(i < 0):\n",
    "        count += 1\n",
    "\n",
    "\n",
    "print(\"Number of pairs that have negative estimated covariance: \",count)"
   ]
  },
  {
   "cell_type": "code",
   "execution_count": 27,
   "metadata": {},
   "outputs": [
    {
     "name": "stdout",
     "output_type": "stream",
     "text": [
      "Total variance: 3619.190\n"
     ]
    }
   ],
   "source": [
    "totalVar = 0\n",
    "for i in range(hearts.shape[1]):\n",
    "    totalVar += covariance(hearts[:,i], hearts[:,i])\n",
    "print(\"Total variance: %.3f\" % totalVar)\n",
    "\n",
    "\n",
    "# totalVarList = []\n",
    "# totalRVar = 0\n",
    "# for i in range(hearts.shape[1]):\n",
    "#     for j in range(hearts.shape[1]):\n",
    "#         totalVarList.append(covariance(hearts[:,i], hearts[:,j]))\n",
    "# # totalVarList.sort()\n",
    "# for i in totalVarList:\n",
    "#     totalRVar += i\n",
    "\n",
    "# totalRVar"
   ]
  },
  {
   "cell_type": "code",
   "execution_count": 28,
   "metadata": {},
   "outputs": [
    {
     "name": "stdout",
     "output_type": "stream",
     "text": [
      "Total variance restricted to the greatest five features estimated: 3846.617\n"
     ]
    }
   ],
   "source": [
    "totalRestrictedVar = []\n",
    "totalRVar = 0\n",
    "for i in range(hearts.shape[1]):\n",
    "    for j in range(hearts.shape[1]):\n",
    "        totalRestrictedVar.append(covariance(hearts[:,i], hearts[:,j]))\n",
    "totalRestrictedVar.sort()\n",
    "totalVarRSet = set(totalRestrictedVar)\n",
    "for i in totalRestrictedVar[-5:]:\n",
    "    totalRVar += i\n",
    "\n",
    "# for j in totalVarRSet:\n",
    "#     totalRVar += j\n",
    "\n",
    "\n",
    "print(\"Total variance restricted to the greatest five features estimated: %.3f\" % totalRVar)"
   ]
  }
 ],
 "metadata": {
  "kernelspec": {
   "display_name": "Python 3 (ipykernel)",
   "language": "python",
   "name": "python3"
  },
  "language_info": {
   "codemirror_mode": {
    "name": "ipython",
    "version": 3
   },
   "file_extension": ".py",
   "mimetype": "text/x-python",
   "name": "python",
   "nbconvert_exporter": "python",
   "pygments_lexer": "ipython3",
   "version": "3.8.12"
  }
 },
 "nbformat": 4,
 "nbformat_minor": 2
}
