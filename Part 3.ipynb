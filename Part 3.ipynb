{
 "cells": [
  {
   "cell_type": "markdown",
   "id": "bc0b4cad",
   "metadata": {},
   "source": [
    "### • (5 points) Convert all categorical attributes using label encoding or one-hot-encoding"
   ]
  },
  {
   "cell_type": "code",
   "execution_count": 7,
   "id": "8cd3ca69",
   "metadata": {},
   "outputs": [
    {
     "ename": "SyntaxError",
     "evalue": "invalid syntax (2865586670.py, line 1)",
     "output_type": "error",
     "traceback": [
      "\u001b[0;36m  File \u001b[0;32m\"/var/folders/5k/yw3fkqfs6972sh1n07gzl9tr0000gn/T/ipykernel_46398/2865586670.py\"\u001b[0;36m, line \u001b[0;32m1\u001b[0m\n\u001b[0;31m    Several attributes in our data set contained categorical data that had already been label encoded.\u001b[0m\n\u001b[0m            ^\u001b[0m\n\u001b[0;31mSyntaxError\u001b[0m\u001b[0;31m:\u001b[0m invalid syntax\n"
     ]
    }
   ],
   "source": [
    "Several attributes in our data set contained categorical data that had already been label encoded. \n"
   ]
  },
  {
   "cell_type": "markdown",
   "id": "06775ab8",
   "metadata": {},
   "source": [
    "### (2 points) If your data has missing values, fill in those values with the attribute mean."
   ]
  },
  {
   "cell_type": "code",
   "execution_count": 12,
   "id": "c7641c5f",
   "metadata": {},
   "outputs": [
    {
     "ename": "SyntaxError",
     "evalue": "invalid syntax (3991506556.py, line 1)",
     "output_type": "error",
     "traceback": [
      "\u001b[0;36m  File \u001b[0;32m\"/var/folders/5k/yw3fkqfs6972sh1n07gzl9tr0000gn/T/ipykernel_46398/3991506556.py\"\u001b[0;36m, line \u001b[0;32m1\u001b[0m\n\u001b[0;31m    Our dataset has no missing values. Usually we would have the choice of replacing missing data with either 0's or NA\u001b[0m\n\u001b[0m        ^\u001b[0m\n\u001b[0;31mSyntaxError\u001b[0m\u001b[0;31m:\u001b[0m invalid syntax\n"
     ]
    }
   ],
   "source": [
    "Our dataset has no missing values. Usually we would have the choice of replacing missing data with either 0's or NA \n",
    "using pandas library, but today's our lucky day. "
   ]
  },
  {
   "cell_type": "markdown",
   "id": "997501a3",
   "metadata": {},
   "source": [
    "### (2 points) What is the multi-dimensional mean of the numerical data matrix (where categorical data have been converted to numerical values)?"
   ]
  },
  {
   "cell_type": "code",
   "execution_count": null,
   "id": "c4d1b7d3",
   "metadata": {},
   "outputs": [],
   "source": []
  },
  {
   "cell_type": "markdown",
   "id": "4af7813b",
   "metadata": {},
   "source": [
    "### (4 points) What is the covariance matrix of the numerical data matrix (where categorical data have been converted to numerical values)?"
   ]
  },
  {
   "cell_type": "code",
   "execution_count": null,
   "id": "50f7b2a6",
   "metadata": {},
   "outputs": [],
   "source": []
  },
  {
   "cell_type": "markdown",
   "id": "36150abd",
   "metadata": {},
   "source": [
    "### (5 points) Choose 5 pairs of attributes that you think could be related. Create scatter plots of all 5 pairs and include these in your report, along with a description and analysis that summarizes why these pairs of attributes might be related, and how the scatter plots do or do not support this intuition."
   ]
  },
  {
   "cell_type": "code",
   "execution_count": null,
   "id": "41ebd1ad",
   "metadata": {},
   "outputs": [],
   "source": []
  },
  {
   "cell_type": "markdown",
   "id": "be6540d6",
   "metadata": {},
   "source": [
    "### (3 points) Which range-normalized numerical attributes have the greatest estimated covariance? What is their estimated covariance? Create a scatter plot of these range-normalized attributes."
   ]
  },
  {
   "cell_type": "code",
   "execution_count": null,
   "id": "6812a950",
   "metadata": {},
   "outputs": [],
   "source": []
  },
  {
   "cell_type": "markdown",
   "id": "aa8905d7",
   "metadata": {},
   "source": [
    "### (3 points) Which Z-score-normalized numerical attributes have the greatest correlation? What is their correlation? Create a scatter plot of these Z-score-normalized attributes."
   ]
  },
  {
   "cell_type": "code",
   "execution_count": null,
   "id": "8d441e6a",
   "metadata": {},
   "outputs": [],
   "source": []
  },
  {
   "cell_type": "markdown",
   "id": "b66a7a63",
   "metadata": {},
   "source": [
    "### (3 points) Which Z-score-normalized numerical attributes have the smallest correlation? What is their correlation? Create a scatter plot of these Z-score-normalized attributes."
   ]
  },
  {
   "cell_type": "code",
   "execution_count": null,
   "id": "40743c49",
   "metadata": {},
   "outputs": [],
   "source": []
  },
  {
   "cell_type": "markdown",
   "id": "c37704f3",
   "metadata": {},
   "source": [
    "### (3 points) How many pairs of features have correlation greater than or equal to 0.5?"
   ]
  },
  {
   "cell_type": "code",
   "execution_count": null,
   "id": "61dd6017",
   "metadata": {},
   "outputs": [],
   "source": []
  },
  {
   "cell_type": "markdown",
   "id": "5c4c4b5e",
   "metadata": {},
   "source": [
    "### (3 points) How many pairs of features have negative estimated covariance?"
   ]
  },
  {
   "cell_type": "code",
   "execution_count": null,
   "id": "74179617",
   "metadata": {},
   "outputs": [],
   "source": []
  },
  {
   "cell_type": "markdown",
   "id": "a25cd017",
   "metadata": {},
   "source": [
    "### (2 points) What is the total variance of the data?"
   ]
  },
  {
   "cell_type": "code",
   "execution_count": null,
   "id": "25be88c0",
   "metadata": {},
   "outputs": [],
   "source": []
  },
  {
   "cell_type": "markdown",
   "id": "93a141ff",
   "metadata": {},
   "source": [
    "### (2 points) What is the total variance of the data, restricted to the five features that have the greatest estimated variance?"
   ]
  },
  {
   "cell_type": "code",
   "execution_count": null,
   "id": "d0f0468c",
   "metadata": {},
   "outputs": [],
   "source": []
  }
 ],
 "metadata": {
  "kernelspec": {
   "display_name": "Python 3 (ipykernel)",
   "language": "python",
   "name": "python3"
  },
  "language_info": {
   "codemirror_mode": {
    "name": "ipython",
    "version": 3
   },
   "file_extension": ".py",
   "mimetype": "text/x-python",
   "name": "python",
   "nbconvert_exporter": "python",
   "pygments_lexer": "ipython3",
   "version": "3.9.7"
  }
 },
 "nbformat": 4,
 "nbformat_minor": 5
}
